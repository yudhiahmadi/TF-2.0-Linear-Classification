{
 "cells": [
  {
   "cell_type": "code",
   "execution_count": 2,
   "id": "36c5adc7",
   "metadata": {},
   "outputs": [
    {
     "name": "stdout",
     "output_type": "stream",
     "text": [
      "2.5.0\n"
     ]
    }
   ],
   "source": [
    "import tensorflow as tf\n",
    "print(tf.__version__)"
   ]
  },
  {
   "cell_type": "code",
   "execution_count": 3,
   "id": "7c916032",
   "metadata": {},
   "outputs": [],
   "source": [
    "# Mengambil data\n",
    "from sklearn.datasets import load_breast_cancer"
   ]
  },
  {
   "cell_type": "code",
   "execution_count": 4,
   "id": "d699c68c",
   "metadata": {},
   "outputs": [],
   "source": [
    "# Memuat data\n",
    "data = load_breast_cancer()"
   ]
  },
  {
   "cell_type": "code",
   "execution_count": 5,
   "id": "4bebb399",
   "metadata": {},
   "outputs": [
    {
     "data": {
      "text/plain": [
       "sklearn.utils.Bunch"
      ]
     },
     "execution_count": 5,
     "metadata": {},
     "output_type": "execute_result"
    }
   ],
   "source": [
    "#mengecheck tipe data\n",
    "type(data)"
   ]
  },
  {
   "cell_type": "code",
   "execution_count": 6,
   "id": "7ccb54ea",
   "metadata": {},
   "outputs": [
    {
     "data": {
      "text/plain": [
       "dict_keys(['data', 'target', 'frame', 'target_names', 'DESCR', 'feature_names', 'filename'])"
      ]
     },
     "execution_count": 6,
     "metadata": {},
     "output_type": "execute_result"
    }
   ],
   "source": [
    "# nb : ini adalah bunch object\n",
    "data.keys()"
   ]
  },
  {
   "cell_type": "code",
   "execution_count": 7,
   "id": "afc916a1",
   "metadata": {},
   "outputs": [
    {
     "data": {
      "text/plain": [
       "(569, 30)"
      ]
     },
     "execution_count": 7,
     "metadata": {},
     "output_type": "execute_result"
    }
   ],
   "source": [
    "data.data.shape"
   ]
  },
  {
   "cell_type": "code",
   "execution_count": 8,
   "id": "17c8db94",
   "metadata": {},
   "outputs": [
    {
     "data": {
      "text/plain": [
       "array([0, 0, 0, 0, 0, 0, 0, 0, 0, 0, 0, 0, 0, 0, 0, 0, 0, 0, 0, 1, 1, 1,\n",
       "       0, 0, 0, 0, 0, 0, 0, 0, 0, 0, 0, 0, 0, 0, 0, 1, 0, 0, 0, 0, 0, 0,\n",
       "       0, 0, 1, 0, 1, 1, 1, 1, 1, 0, 0, 1, 0, 0, 1, 1, 1, 1, 0, 1, 0, 0,\n",
       "       1, 1, 1, 1, 0, 1, 0, 0, 1, 0, 1, 0, 0, 1, 1, 1, 0, 0, 1, 0, 0, 0,\n",
       "       1, 1, 1, 0, 1, 1, 0, 0, 1, 1, 1, 0, 0, 1, 1, 1, 1, 0, 1, 1, 0, 1,\n",
       "       1, 1, 1, 1, 1, 1, 1, 0, 0, 0, 1, 0, 0, 1, 1, 1, 0, 0, 1, 0, 1, 0,\n",
       "       0, 1, 0, 0, 1, 1, 0, 1, 1, 0, 1, 1, 1, 1, 0, 1, 1, 1, 1, 1, 1, 1,\n",
       "       1, 1, 0, 1, 1, 1, 1, 0, 0, 1, 0, 1, 1, 0, 0, 1, 1, 0, 0, 1, 1, 1,\n",
       "       1, 0, 1, 1, 0, 0, 0, 1, 0, 1, 0, 1, 1, 1, 0, 1, 1, 0, 0, 1, 0, 0,\n",
       "       0, 0, 1, 0, 0, 0, 1, 0, 1, 0, 1, 1, 0, 1, 0, 0, 0, 0, 1, 1, 0, 0,\n",
       "       1, 1, 1, 0, 1, 1, 1, 1, 1, 0, 0, 1, 1, 0, 1, 1, 0, 0, 1, 0, 1, 1,\n",
       "       1, 1, 0, 1, 1, 1, 1, 1, 0, 1, 0, 0, 0, 0, 0, 0, 0, 0, 0, 0, 0, 0,\n",
       "       0, 0, 1, 1, 1, 1, 1, 1, 0, 1, 0, 1, 1, 0, 1, 1, 0, 1, 0, 0, 1, 1,\n",
       "       1, 1, 1, 1, 1, 1, 1, 1, 1, 1, 1, 0, 1, 1, 0, 1, 0, 1, 1, 1, 1, 1,\n",
       "       1, 1, 1, 1, 1, 1, 1, 1, 1, 0, 1, 1, 1, 0, 1, 0, 1, 1, 1, 1, 0, 0,\n",
       "       0, 1, 1, 1, 1, 0, 1, 0, 1, 0, 1, 1, 1, 0, 1, 1, 1, 1, 1, 1, 1, 0,\n",
       "       0, 0, 1, 1, 1, 1, 1, 1, 1, 1, 1, 1, 1, 0, 0, 1, 0, 0, 0, 1, 0, 0,\n",
       "       1, 1, 1, 1, 1, 0, 1, 1, 1, 1, 1, 0, 1, 1, 1, 0, 1, 1, 0, 0, 1, 1,\n",
       "       1, 1, 1, 1, 0, 1, 1, 1, 1, 1, 1, 1, 0, 1, 1, 1, 1, 1, 0, 1, 1, 0,\n",
       "       1, 1, 1, 1, 1, 1, 1, 1, 1, 1, 1, 1, 0, 1, 0, 0, 1, 0, 1, 1, 1, 1,\n",
       "       1, 0, 1, 1, 0, 1, 0, 1, 1, 0, 1, 0, 1, 1, 1, 1, 1, 1, 1, 1, 0, 0,\n",
       "       1, 1, 1, 1, 1, 1, 0, 1, 1, 1, 1, 1, 1, 1, 1, 1, 1, 0, 1, 1, 1, 1,\n",
       "       1, 1, 1, 0, 1, 0, 1, 1, 0, 1, 1, 1, 1, 1, 0, 0, 1, 0, 1, 0, 1, 1,\n",
       "       1, 1, 1, 0, 1, 1, 0, 1, 0, 1, 0, 0, 1, 1, 1, 0, 1, 1, 1, 1, 1, 1,\n",
       "       1, 1, 1, 1, 1, 0, 1, 0, 0, 1, 1, 1, 1, 1, 1, 1, 1, 1, 1, 1, 1, 1,\n",
       "       1, 1, 1, 1, 1, 1, 1, 1, 1, 1, 1, 1, 0, 0, 0, 0, 0, 0, 1])"
      ]
     },
     "execution_count": 8,
     "metadata": {},
     "output_type": "execute_result"
    }
   ],
   "source": [
    "data.target"
   ]
  },
  {
   "cell_type": "code",
   "execution_count": 9,
   "id": "1044293d",
   "metadata": {},
   "outputs": [
    {
     "data": {
      "text/plain": [
       "array(['malignant', 'benign'], dtype='<U9')"
      ]
     },
     "execution_count": 9,
     "metadata": {},
     "output_type": "execute_result"
    }
   ],
   "source": [
    "data.target_names"
   ]
  },
  {
   "cell_type": "code",
   "execution_count": 10,
   "id": "545dfdc8",
   "metadata": {},
   "outputs": [
    {
     "data": {
      "text/plain": [
       "(569,)"
      ]
     },
     "execution_count": 10,
     "metadata": {},
     "output_type": "execute_result"
    }
   ],
   "source": [
    "#dimensi\n",
    "data.target.shape"
   ]
  },
  {
   "cell_type": "code",
   "execution_count": 11,
   "id": "ef9ac2dd",
   "metadata": {},
   "outputs": [
    {
     "data": {
      "text/plain": [
       "array(['mean radius', 'mean texture', 'mean perimeter', 'mean area',\n",
       "       'mean smoothness', 'mean compactness', 'mean concavity',\n",
       "       'mean concave points', 'mean symmetry', 'mean fractal dimension',\n",
       "       'radius error', 'texture error', 'perimeter error', 'area error',\n",
       "       'smoothness error', 'compactness error', 'concavity error',\n",
       "       'concave points error', 'symmetry error',\n",
       "       'fractal dimension error', 'worst radius', 'worst texture',\n",
       "       'worst perimeter', 'worst area', 'worst smoothness',\n",
       "       'worst compactness', 'worst concavity', 'worst concave points',\n",
       "       'worst symmetry', 'worst fractal dimension'], dtype='<U23')"
      ]
     },
     "execution_count": 11,
     "metadata": {},
     "output_type": "execute_result"
    }
   ],
   "source": [
    "data.feature_names"
   ]
  },
  {
   "cell_type": "code",
   "execution_count": 12,
   "id": "6eaf2430",
   "metadata": {},
   "outputs": [],
   "source": [
    "#library memabntu dalam membagi data\n",
    "from sklearn.model_selection import train_test_split"
   ]
  },
  {
   "cell_type": "code",
   "execution_count": 13,
   "id": "c6ffc552",
   "metadata": {},
   "outputs": [],
   "source": [
    "X_train, X_test, y_train, y_test = train_test_split(data.data, data.target, test_size=0.33)\n",
    "N, D = X_train.shape"
   ]
  },
  {
   "cell_type": "code",
   "execution_count": 14,
   "id": "996aebf1",
   "metadata": {},
   "outputs": [],
   "source": [
    "#Standarisasi Data\n",
    "from sklearn.preprocessing import StandardScaler\n",
    "\n",
    "scaler = StandardScaler()\n",
    "\n",
    "X_train = scaler.fit_transform(X_train)\n",
    "X_test = scaler.transform(X_test)"
   ]
  },
  {
   "cell_type": "code",
   "execution_count": 15,
   "id": "d08e9b34",
   "metadata": {},
   "outputs": [
    {
     "name": "stdout",
     "output_type": "stream",
     "text": [
      "WARNING:tensorflow:Please add `keras.layers.InputLayer` instead of `keras.Input` to Sequential model. `keras.Input` is intended to be used by Functional model.\n",
      "Epoch 1/100\n",
      "12/12 [==============================] - 5s 47ms/step - loss: 0.6645 - accuracy: 0.6929 - val_loss: 0.6305 - val_accuracy: 0.6702\n",
      "Epoch 2/100\n",
      "12/12 [==============================] - 0s 18ms/step - loss: 0.6112 - accuracy: 0.7192 - val_loss: 0.5741 - val_accuracy: 0.7394\n",
      "Epoch 3/100\n",
      "12/12 [==============================] - 0s 19ms/step - loss: 0.5646 - accuracy: 0.7402 - val_loss: 0.5261 - val_accuracy: 0.7819\n",
      "Epoch 4/100\n",
      "12/12 [==============================] - 0s 19ms/step - loss: 0.5238 - accuracy: 0.7717 - val_loss: 0.4847 - val_accuracy: 0.8245\n",
      "Epoch 5/100\n",
      "12/12 [==============================] - 0s 19ms/step - loss: 0.4880 - accuracy: 0.8110 - val_loss: 0.4495 - val_accuracy: 0.8457\n",
      "Epoch 6/100\n",
      "12/12 [==============================] - 0s 18ms/step - loss: 0.4583 - accuracy: 0.8189 - val_loss: 0.4183 - val_accuracy: 0.8564\n",
      "Epoch 7/100\n",
      "12/12 [==============================] - 0s 19ms/step - loss: 0.4317 - accuracy: 0.8320 - val_loss: 0.3905 - val_accuracy: 0.8723\n",
      "Epoch 8/100\n",
      "12/12 [==============================] - 0s 19ms/step - loss: 0.4074 - accuracy: 0.8478 - val_loss: 0.3670 - val_accuracy: 0.8830\n",
      "Epoch 9/100\n",
      "12/12 [==============================] - 0s 19ms/step - loss: 0.3867 - accuracy: 0.8688 - val_loss: 0.3458 - val_accuracy: 0.8830\n",
      "Epoch 10/100\n",
      "12/12 [==============================] - 0s 18ms/step - loss: 0.3672 - accuracy: 0.8740 - val_loss: 0.3279 - val_accuracy: 0.8830\n",
      "Epoch 11/100\n",
      "12/12 [==============================] - 0s 19ms/step - loss: 0.3511 - accuracy: 0.8766 - val_loss: 0.3110 - val_accuracy: 0.8936\n",
      "Epoch 12/100\n",
      "12/12 [==============================] - 0s 19ms/step - loss: 0.3354 - accuracy: 0.8845 - val_loss: 0.2963 - val_accuracy: 0.8936\n",
      "Epoch 13/100\n",
      "12/12 [==============================] - 0s 22ms/step - loss: 0.3220 - accuracy: 0.8898 - val_loss: 0.2826 - val_accuracy: 0.8989\n",
      "Epoch 14/100\n",
      "12/12 [==============================] - 0s 20ms/step - loss: 0.3092 - accuracy: 0.8950 - val_loss: 0.2706 - val_accuracy: 0.9202\n",
      "Epoch 15/100\n",
      "12/12 [==============================] - 0s 19ms/step - loss: 0.2976 - accuracy: 0.8976 - val_loss: 0.2599 - val_accuracy: 0.9202\n",
      "Epoch 16/100\n",
      "12/12 [==============================] - 0s 19ms/step - loss: 0.2868 - accuracy: 0.9003 - val_loss: 0.2502 - val_accuracy: 0.9309\n",
      "Epoch 17/100\n",
      "12/12 [==============================] - 0s 20ms/step - loss: 0.2775 - accuracy: 0.9081 - val_loss: 0.2410 - val_accuracy: 0.9415\n",
      "Epoch 18/100\n",
      "12/12 [==============================] - 0s 22ms/step - loss: 0.2683 - accuracy: 0.9108 - val_loss: 0.2328 - val_accuracy: 0.9415\n",
      "Epoch 19/100\n",
      "12/12 [==============================] - 0s 22ms/step - loss: 0.2600 - accuracy: 0.9134 - val_loss: 0.2253 - val_accuracy: 0.9415\n",
      "Epoch 20/100\n",
      "12/12 [==============================] - 0s 22ms/step - loss: 0.2523 - accuracy: 0.9134 - val_loss: 0.2183 - val_accuracy: 0.9415\n",
      "Epoch 21/100\n",
      "12/12 [==============================] - 0s 22ms/step - loss: 0.2453 - accuracy: 0.9160 - val_loss: 0.2117 - val_accuracy: 0.9415\n",
      "Epoch 22/100\n",
      "12/12 [==============================] - 0s 22ms/step - loss: 0.2383 - accuracy: 0.9186 - val_loss: 0.2058 - val_accuracy: 0.9415\n",
      "Epoch 23/100\n",
      "12/12 [==============================] - 0s 22ms/step - loss: 0.2320 - accuracy: 0.9186 - val_loss: 0.2003 - val_accuracy: 0.9415\n",
      "Epoch 24/100\n",
      "12/12 [==============================] - 0s 20ms/step - loss: 0.2262 - accuracy: 0.9213 - val_loss: 0.1953 - val_accuracy: 0.9415\n",
      "Epoch 25/100\n",
      "12/12 [==============================] - 0s 22ms/step - loss: 0.2205 - accuracy: 0.9213 - val_loss: 0.1907 - val_accuracy: 0.9415\n",
      "Epoch 26/100\n",
      "12/12 [==============================] - 0s 20ms/step - loss: 0.2155 - accuracy: 0.9239 - val_loss: 0.1862 - val_accuracy: 0.9468\n",
      "Epoch 27/100\n",
      "12/12 [==============================] - 0s 23ms/step - loss: 0.2104 - accuracy: 0.9239 - val_loss: 0.1820 - val_accuracy: 0.9468\n",
      "Epoch 28/100\n",
      "12/12 [==============================] - 0s 20ms/step - loss: 0.2057 - accuracy: 0.9265 - val_loss: 0.1781 - val_accuracy: 0.9468\n",
      "Epoch 29/100\n",
      "12/12 [==============================] - 0s 24ms/step - loss: 0.2013 - accuracy: 0.9291 - val_loss: 0.1744 - val_accuracy: 0.9468\n",
      "Epoch 30/100\n",
      "12/12 [==============================] - 0s 26ms/step - loss: 0.1971 - accuracy: 0.9291 - val_loss: 0.1710 - val_accuracy: 0.9468\n",
      "Epoch 31/100\n",
      "12/12 [==============================] - 0s 19ms/step - loss: 0.1931 - accuracy: 0.9344 - val_loss: 0.1678 - val_accuracy: 0.9468\n",
      "Epoch 32/100\n",
      "12/12 [==============================] - 0s 23ms/step - loss: 0.1893 - accuracy: 0.9370 - val_loss: 0.1648 - val_accuracy: 0.9468\n",
      "Epoch 33/100\n",
      "12/12 [==============================] - 0s 20ms/step - loss: 0.1857 - accuracy: 0.9370 - val_loss: 0.1620 - val_accuracy: 0.9468\n",
      "Epoch 34/100\n",
      "12/12 [==============================] - 0s 19ms/step - loss: 0.1823 - accuracy: 0.9370 - val_loss: 0.1592 - val_accuracy: 0.9468\n",
      "Epoch 35/100\n",
      "12/12 [==============================] - 0s 18ms/step - loss: 0.1792 - accuracy: 0.9396 - val_loss: 0.1566 - val_accuracy: 0.9468\n",
      "Epoch 36/100\n",
      "12/12 [==============================] - 0s 19ms/step - loss: 0.1759 - accuracy: 0.9396 - val_loss: 0.1542 - val_accuracy: 0.9468\n",
      "Epoch 37/100\n",
      "12/12 [==============================] - 0s 18ms/step - loss: 0.1730 - accuracy: 0.9396 - val_loss: 0.1519 - val_accuracy: 0.9468\n",
      "Epoch 38/100\n",
      "12/12 [==============================] - 0s 19ms/step - loss: 0.1702 - accuracy: 0.9396 - val_loss: 0.1496 - val_accuracy: 0.9468\n",
      "Epoch 39/100\n",
      "12/12 [==============================] - 0s 18ms/step - loss: 0.1674 - accuracy: 0.9449 - val_loss: 0.1476 - val_accuracy: 0.9468\n",
      "Epoch 40/100\n",
      "12/12 [==============================] - 0s 19ms/step - loss: 0.1648 - accuracy: 0.9449 - val_loss: 0.1457 - val_accuracy: 0.9521\n",
      "Epoch 41/100\n",
      "12/12 [==============================] - 0s 18ms/step - loss: 0.1623 - accuracy: 0.9449 - val_loss: 0.1437 - val_accuracy: 0.9521\n",
      "Epoch 42/100\n",
      "12/12 [==============================] - 0s 17ms/step - loss: 0.1600 - accuracy: 0.9449 - val_loss: 0.1420 - val_accuracy: 0.9521\n",
      "Epoch 43/100\n",
      "12/12 [==============================] - 0s 19ms/step - loss: 0.1576 - accuracy: 0.9449 - val_loss: 0.1403 - val_accuracy: 0.9521\n",
      "Epoch 44/100\n",
      "12/12 [==============================] - 0s 18ms/step - loss: 0.1554 - accuracy: 0.9449 - val_loss: 0.1387 - val_accuracy: 0.9521\n",
      "Epoch 45/100\n",
      "12/12 [==============================] - 0s 19ms/step - loss: 0.1534 - accuracy: 0.9449 - val_loss: 0.1370 - val_accuracy: 0.9521\n",
      "Epoch 46/100\n",
      "12/12 [==============================] - 0s 18ms/step - loss: 0.1513 - accuracy: 0.9449 - val_loss: 0.1355 - val_accuracy: 0.9521\n",
      "Epoch 47/100\n",
      "12/12 [==============================] - 0s 19ms/step - loss: 0.1493 - accuracy: 0.9449 - val_loss: 0.1341 - val_accuracy: 0.9521\n",
      "Epoch 48/100\n",
      "12/12 [==============================] - 0s 22ms/step - loss: 0.1473 - accuracy: 0.9449 - val_loss: 0.1327 - val_accuracy: 0.9521\n",
      "Epoch 49/100\n",
      "12/12 [==============================] - 0s 18ms/step - loss: 0.1456 - accuracy: 0.9449 - val_loss: 0.1314 - val_accuracy: 0.9521\n",
      "Epoch 50/100\n",
      "12/12 [==============================] - 0s 19ms/step - loss: 0.1438 - accuracy: 0.9475 - val_loss: 0.1300 - val_accuracy: 0.9521\n",
      "Epoch 51/100\n",
      "12/12 [==============================] - 0s 22ms/step - loss: 0.1421 - accuracy: 0.9528 - val_loss: 0.1289 - val_accuracy: 0.9521\n",
      "Epoch 52/100\n",
      "12/12 [==============================] - 0s 22ms/step - loss: 0.1404 - accuracy: 0.9528 - val_loss: 0.1276 - val_accuracy: 0.9574\n",
      "Epoch 53/100\n",
      "12/12 [==============================] - 0s 22ms/step - loss: 0.1388 - accuracy: 0.9528 - val_loss: 0.1265 - val_accuracy: 0.9574\n",
      "Epoch 54/100\n",
      "12/12 [==============================] - 0s 26ms/step - loss: 0.1372 - accuracy: 0.9528 - val_loss: 0.1254 - val_accuracy: 0.9574\n",
      "Epoch 55/100\n",
      "12/12 [==============================] - 0s 20ms/step - loss: 0.1357 - accuracy: 0.9528 - val_loss: 0.1243 - val_accuracy: 0.9574\n",
      "Epoch 56/100\n",
      "12/12 [==============================] - 0s 21ms/step - loss: 0.1343 - accuracy: 0.9580 - val_loss: 0.1233 - val_accuracy: 0.9574\n",
      "Epoch 57/100\n"
     ]
    },
    {
     "name": "stdout",
     "output_type": "stream",
     "text": [
      "12/12 [==============================] - 0s 22ms/step - loss: 0.1329 - accuracy: 0.9580 - val_loss: 0.1223 - val_accuracy: 0.9574\n",
      "Epoch 58/100\n",
      "12/12 [==============================] - 0s 23ms/step - loss: 0.1315 - accuracy: 0.9580 - val_loss: 0.1214 - val_accuracy: 0.9574\n",
      "Epoch 59/100\n",
      "12/12 [==============================] - 0s 23ms/step - loss: 0.1302 - accuracy: 0.9580 - val_loss: 0.1204 - val_accuracy: 0.9628\n",
      "Epoch 60/100\n",
      "12/12 [==============================] - 0s 21ms/step - loss: 0.1288 - accuracy: 0.9606 - val_loss: 0.1195 - val_accuracy: 0.9628\n",
      "Epoch 61/100\n",
      "12/12 [==============================] - 0s 20ms/step - loss: 0.1276 - accuracy: 0.9606 - val_loss: 0.1187 - val_accuracy: 0.9628\n",
      "Epoch 62/100\n",
      "12/12 [==============================] - 0s 24ms/step - loss: 0.1263 - accuracy: 0.9606 - val_loss: 0.1179 - val_accuracy: 0.9628\n",
      "Epoch 63/100\n",
      "12/12 [==============================] - 0s 22ms/step - loss: 0.1252 - accuracy: 0.9606 - val_loss: 0.1170 - val_accuracy: 0.9628\n",
      "Epoch 64/100\n",
      "12/12 [==============================] - 0s 21ms/step - loss: 0.1240 - accuracy: 0.9633 - val_loss: 0.1161 - val_accuracy: 0.9681\n",
      "Epoch 65/100\n",
      "12/12 [==============================] - 0s 22ms/step - loss: 0.1228 - accuracy: 0.9633 - val_loss: 0.1154 - val_accuracy: 0.9681\n",
      "Epoch 66/100\n",
      "12/12 [==============================] - 0s 20ms/step - loss: 0.1217 - accuracy: 0.9659 - val_loss: 0.1146 - val_accuracy: 0.9681\n",
      "Epoch 67/100\n",
      "12/12 [==============================] - 0s 21ms/step - loss: 0.1207 - accuracy: 0.9659 - val_loss: 0.1139 - val_accuracy: 0.9681\n",
      "Epoch 68/100\n",
      "12/12 [==============================] - 0s 18ms/step - loss: 0.1196 - accuracy: 0.9685 - val_loss: 0.1132 - val_accuracy: 0.9681\n",
      "Epoch 69/100\n",
      "12/12 [==============================] - 0s 24ms/step - loss: 0.1185 - accuracy: 0.9685 - val_loss: 0.1126 - val_accuracy: 0.9681\n",
      "Epoch 70/100\n",
      "12/12 [==============================] - 0s 23ms/step - loss: 0.1176 - accuracy: 0.9685 - val_loss: 0.1118 - val_accuracy: 0.9681\n",
      "Epoch 71/100\n",
      "12/12 [==============================] - 0s 21ms/step - loss: 0.1166 - accuracy: 0.9685 - val_loss: 0.1112 - val_accuracy: 0.9681\n",
      "Epoch 72/100\n",
      "12/12 [==============================] - 0s 19ms/step - loss: 0.1156 - accuracy: 0.9685 - val_loss: 0.1105 - val_accuracy: 0.9681\n",
      "Epoch 73/100\n",
      "12/12 [==============================] - 0s 21ms/step - loss: 0.1147 - accuracy: 0.9685 - val_loss: 0.1100 - val_accuracy: 0.9681\n",
      "Epoch 74/100\n",
      "12/12 [==============================] - 0s 20ms/step - loss: 0.1138 - accuracy: 0.9685 - val_loss: 0.1093 - val_accuracy: 0.9681\n",
      "Epoch 75/100\n",
      "12/12 [==============================] - 0s 20ms/step - loss: 0.1129 - accuracy: 0.9711 - val_loss: 0.1087 - val_accuracy: 0.9681\n",
      "Epoch 76/100\n",
      "12/12 [==============================] - 0s 21ms/step - loss: 0.1120 - accuracy: 0.9711 - val_loss: 0.1082 - val_accuracy: 0.9681\n",
      "Epoch 77/100\n",
      "12/12 [==============================] - 0s 21ms/step - loss: 0.1112 - accuracy: 0.9711 - val_loss: 0.1076 - val_accuracy: 0.9681\n",
      "Epoch 78/100\n",
      "12/12 [==============================] - 0s 19ms/step - loss: 0.1103 - accuracy: 0.9711 - val_loss: 0.1071 - val_accuracy: 0.9681\n",
      "Epoch 79/100\n",
      "12/12 [==============================] - 0s 22ms/step - loss: 0.1095 - accuracy: 0.9711 - val_loss: 0.1064 - val_accuracy: 0.9734\n",
      "Epoch 80/100\n",
      "12/12 [==============================] - 0s 25ms/step - loss: 0.1087 - accuracy: 0.9711 - val_loss: 0.1059 - val_accuracy: 0.9734\n",
      "Epoch 81/100\n",
      "12/12 [==============================] - 0s 23ms/step - loss: 0.1080 - accuracy: 0.9711 - val_loss: 0.1055 - val_accuracy: 0.9734\n",
      "Epoch 82/100\n",
      "12/12 [==============================] - 0s 21ms/step - loss: 0.1071 - accuracy: 0.9738 - val_loss: 0.1050 - val_accuracy: 0.9734\n",
      "Epoch 83/100\n",
      "12/12 [==============================] - 0s 20ms/step - loss: 0.1064 - accuracy: 0.9738 - val_loss: 0.1045 - val_accuracy: 0.9734\n",
      "Epoch 84/100\n",
      "12/12 [==============================] - 0s 19ms/step - loss: 0.1056 - accuracy: 0.9738 - val_loss: 0.1040 - val_accuracy: 0.9734\n",
      "Epoch 85/100\n",
      "12/12 [==============================] - 0s 22ms/step - loss: 0.1050 - accuracy: 0.9738 - val_loss: 0.1035 - val_accuracy: 0.9734\n",
      "Epoch 86/100\n",
      "12/12 [==============================] - 0s 21ms/step - loss: 0.1042 - accuracy: 0.9738 - val_loss: 0.1031 - val_accuracy: 0.9734\n",
      "Epoch 87/100\n",
      "12/12 [==============================] - 0s 23ms/step - loss: 0.1036 - accuracy: 0.9738 - val_loss: 0.1026 - val_accuracy: 0.9734\n",
      "Epoch 88/100\n",
      "12/12 [==============================] - 0s 21ms/step - loss: 0.1029 - accuracy: 0.9738 - val_loss: 0.1022 - val_accuracy: 0.9734\n",
      "Epoch 89/100\n",
      "12/12 [==============================] - 0s 20ms/step - loss: 0.1022 - accuracy: 0.9738 - val_loss: 0.1018 - val_accuracy: 0.9734\n",
      "Epoch 90/100\n",
      "12/12 [==============================] - 0s 21ms/step - loss: 0.1015 - accuracy: 0.9738 - val_loss: 0.1013 - val_accuracy: 0.9734\n",
      "Epoch 91/100\n",
      "12/12 [==============================] - 0s 21ms/step - loss: 0.1009 - accuracy: 0.9738 - val_loss: 0.1009 - val_accuracy: 0.9734\n",
      "Epoch 92/100\n",
      "12/12 [==============================] - 0s 22ms/step - loss: 0.1003 - accuracy: 0.9738 - val_loss: 0.1005 - val_accuracy: 0.9734\n",
      "Epoch 93/100\n",
      "12/12 [==============================] - 0s 23ms/step - loss: 0.0997 - accuracy: 0.9738 - val_loss: 0.1001 - val_accuracy: 0.9734\n",
      "Epoch 94/100\n",
      "12/12 [==============================] - 0s 19ms/step - loss: 0.0991 - accuracy: 0.9738 - val_loss: 0.0998 - val_accuracy: 0.9734\n",
      "Epoch 95/100\n",
      "12/12 [==============================] - 0s 23ms/step - loss: 0.0985 - accuracy: 0.9738 - val_loss: 0.0994 - val_accuracy: 0.9734\n",
      "Epoch 96/100\n",
      "12/12 [==============================] - 0s 23ms/step - loss: 0.0979 - accuracy: 0.9738 - val_loss: 0.0990 - val_accuracy: 0.9734\n",
      "Epoch 97/100\n",
      "12/12 [==============================] - 0s 26ms/step - loss: 0.0973 - accuracy: 0.9738 - val_loss: 0.0986 - val_accuracy: 0.9734\n",
      "Epoch 98/100\n",
      "12/12 [==============================] - 0s 22ms/step - loss: 0.0967 - accuracy: 0.9738 - val_loss: 0.0982 - val_accuracy: 0.9734\n",
      "Epoch 99/100\n",
      "12/12 [==============================] - 0s 20ms/step - loss: 0.0962 - accuracy: 0.9738 - val_loss: 0.0979 - val_accuracy: 0.9734\n",
      "Epoch 100/100\n",
      "12/12 [==============================] - 0s 23ms/step - loss: 0.0957 - accuracy: 0.9738 - val_loss: 0.0976 - val_accuracy: 0.9734\n",
      "12/12 [==============================] - 0s 9ms/step - loss: 0.0953 - accuracy: 0.9764\n",
      "Train score: [0.09533373266458511, 0.9763779640197754]\n",
      "6/6 [==============================] - 0s 12ms/step - loss: 0.0976 - accuracy: 0.9734\n",
      "Test score: [0.09756498038768768, 0.9734042286872864]\n"
     ]
    }
   ],
   "source": [
    "#Membangun model\n",
    "model = tf.keras.models.Sequential([\n",
    "    tf.keras.layers.Input(shape=(D,)),\n",
    "    tf.keras.layers.Dense(1, activation='sigmoid')\n",
    "])\n",
    "\n",
    "model.compile(optimizer='adam',\n",
    "             loss='binary_crossentropy',\n",
    "             metrics=['accuracy'])\n",
    "\n",
    "# Training data\n",
    "r = model.fit(X_train, y_train, validation_data=(X_test, y_test), epochs=100)\n",
    "\n",
    "# Evaluasi model dengan loss dan akurasi\n",
    "print(\"Train score:\", model.evaluate(X_train, y_train))\n",
    "print(\"Test score:\", model.evaluate(X_test, y_test))"
   ]
  },
  {
   "cell_type": "code",
   "execution_count": 16,
   "id": "46b180e4",
   "metadata": {},
   "outputs": [
    {
     "data": {
      "text/plain": [
       "<matplotlib.legend.Legend at 0x20dbd45c370>"
      ]
     },
     "execution_count": 16,
     "metadata": {},
     "output_type": "execute_result"
    },
    {
     "data": {
      "image/png": "[encoded data removed]",
      "text/plain": [
       "<Figure size 432x288 with 1 Axes>"
      ]
     },
     "metadata": {
      "needs_background": "light"
     },
     "output_type": "display_data"
    }
   ],
   "source": [
    "# plot hasil model.fit() grafik loss\n",
    "import matplotlib.pyplot as plt\n",
    "plt.plot(r.history['loss'], label='loss')\n",
    "plt.plot(r.history['val_loss'], label='val loss')\n",
    "plt.legend()"
   ]
  },
  {
   "cell_type": "code",
   "execution_count": 17,
   "id": "eaeca701",
   "metadata": {},
   "outputs": [
    {
     "data": {
      "text/plain": [
       "<matplotlib.legend.Legend at 0x20dbd560c40>"
      ]
     },
     "execution_count": 17,
     "metadata": {},
     "output_type": "execute_result"
    },
    {
     "data": {
      "image/png": "[encoded data removed]",
      "text/plain": [
       "<Figure size 432x288 with 1 Axes>"
      ]
     },
     "metadata": {
      "needs_background": "light"
     },
     "output_type": "display_data"
    }
   ],
   "source": [
    "#grafik plot akurasi\n",
    "plt.plot(r.history['accuracy'], label='akurasi')\n",
    "plt.plot(r.history['val_accuracy'], label='val_akurasi')\n",
    "plt.legend()"
   ]
  },
  {
   "cell_type": "markdown",
   "id": "fef51255",
   "metadata": {},
   "source": [
    "## Part 2 : Membuat Prediksi"
   ]
  },
  {
   "cell_type": "code",
   "execution_count": 18,
   "id": "d6663750",
   "metadata": {},
   "outputs": [
    {
     "name": "stdout",
     "output_type": "stream",
     "text": [
      "[[2.16526002e-01]\n",
      " [9.34123278e-01]\n",
      " [3.98532093e-01]\n",
      " [9.98417854e-01]\n",
      " [9.99026299e-01]\n",
      " [7.17902929e-03]\n",
      " [9.97596085e-01]\n",
      " [6.56927109e-14]\n",
      " [9.99731362e-01]\n",
      " [9.92400289e-01]\n",
      " [9.53022301e-01]\n",
      " [9.97956157e-01]\n",
      " [9.90647137e-01]\n",
      " [2.01406027e-03]\n",
      " [6.56293392e-01]\n",
      " [9.82782423e-01]\n",
      " [9.52052295e-01]\n",
      " [9.98906255e-01]\n",
      " [9.92636025e-01]\n",
      " [9.98176098e-01]\n",
      " [9.81105864e-01]\n",
      " [4.65624332e-01]\n",
      " [3.38344555e-03]\n",
      " [1.59778760e-03]\n",
      " [4.34288174e-01]\n",
      " [9.38686848e-01]\n",
      " [9.48134303e-01]\n",
      " [3.57823223e-02]\n",
      " [9.90800560e-01]\n",
      " [3.16635987e-06]\n",
      " [9.74517763e-01]\n",
      " [9.99820411e-01]\n",
      " [8.43980074e-01]\n",
      " [9.81054068e-01]\n",
      " [9.98188317e-01]\n",
      " [9.98430550e-01]\n",
      " [2.60451697e-02]\n",
      " [9.34219599e-01]\n",
      " [7.57262390e-03]\n",
      " [9.89558816e-01]\n",
      " [9.91295218e-01]\n",
      " [9.96932387e-01]\n",
      " [3.45593155e-03]\n",
      " [9.30456936e-01]\n",
      " [9.89854395e-01]\n",
      " [7.52649605e-01]\n",
      " [5.42380095e-01]\n",
      " [9.81625795e-01]\n",
      " [9.62578416e-01]\n",
      " [9.93061364e-01]\n",
      " [3.59891892e-05]\n",
      " [9.87844229e-01]\n",
      " [1.03106686e-07]\n",
      " [9.94486988e-01]\n",
      " [9.61420715e-01]\n",
      " [9.80003119e-01]\n",
      " [9.67576563e-01]\n",
      " [8.45267177e-01]\n",
      " [9.90401685e-01]\n",
      " [9.36452031e-01]\n",
      " [9.70159233e-01]\n",
      " [9.69200850e-01]\n",
      " [9.30353522e-01]\n",
      " [9.99290943e-01]\n",
      " [8.09055686e-01]\n",
      " [8.27342097e-04]\n",
      " [9.95467067e-01]\n",
      " [9.90035892e-01]\n",
      " [3.46685946e-02]\n",
      " [7.01611876e-01]\n",
      " [6.17097504e-02]\n",
      " [9.93990183e-01]\n",
      " [7.59609118e-02]\n",
      " [8.16099644e-01]\n",
      " [9.89524961e-01]\n",
      " [7.11428344e-01]\n",
      " [9.98683035e-01]\n",
      " [9.95739579e-01]\n",
      " [3.53222049e-06]\n",
      " [1.51396900e-01]\n",
      " [9.91277337e-01]\n",
      " [9.90166128e-01]\n",
      " [5.12206852e-01]\n",
      " [9.99451816e-01]\n",
      " [9.60336864e-01]\n",
      " [9.96308506e-01]\n",
      " [9.63024378e-01]\n",
      " [8.88498843e-01]\n",
      " [4.09388423e-01]\n",
      " [9.86408114e-01]\n",
      " [6.85967058e-02]\n",
      " [9.98252094e-01]\n",
      " [9.61232185e-01]\n",
      " [5.43841660e-01]\n",
      " [9.33067083e-01]\n",
      " [9.94241893e-01]\n",
      " [9.99363601e-01]\n",
      " [4.92520370e-02]\n",
      " [9.96662915e-01]\n",
      " [9.98935521e-01]\n",
      " [9.88359690e-01]\n",
      " [9.36704218e-01]\n",
      " [9.99775827e-01]\n",
      " [9.99208868e-01]\n",
      " [9.39704137e-07]\n",
      " [9.98278141e-01]\n",
      " [9.94502187e-01]\n",
      " [1.15197327e-03]\n",
      " [7.83350229e-01]\n",
      " [9.83058214e-01]\n",
      " [9.74835873e-01]\n",
      " [8.49055052e-01]\n",
      " [8.75970960e-01]\n",
      " [8.43985379e-01]\n",
      " [1.92387015e-04]\n",
      " [8.78743291e-01]\n",
      " [2.29028938e-03]\n",
      " [8.51937473e-01]\n",
      " [9.80871797e-01]\n",
      " [3.03584646e-04]\n",
      " [9.76634860e-01]\n",
      " [6.24528825e-02]\n",
      " [9.99732554e-01]\n",
      " [9.52200592e-01]\n",
      " [9.92294192e-01]\n",
      " [8.88586437e-05]\n",
      " [2.15169555e-03]\n",
      " [9.92208719e-01]\n",
      " [9.78429556e-01]\n",
      " [9.83640373e-01]\n",
      " [9.17440116e-01]\n",
      " [8.94492626e-01]\n",
      " [1.39534160e-01]\n",
      " [4.64517158e-03]\n",
      " [9.95917857e-01]\n",
      " [9.98641074e-01]\n",
      " [9.76419687e-01]\n",
      " [1.92765184e-02]\n",
      " [9.55118597e-01]\n",
      " [9.91016030e-01]\n",
      " [9.07665193e-01]\n",
      " [6.14909572e-04]\n",
      " [9.78266299e-01]\n",
      " [9.98171687e-01]\n",
      " [1.96158453e-06]\n",
      " [9.63184953e-01]\n",
      " [9.50458527e-01]\n",
      " [9.99270618e-01]\n",
      " [9.81758595e-01]\n",
      " [8.21282864e-01]\n",
      " [6.06973772e-04]\n",
      " [4.15602848e-02]\n",
      " [1.11478975e-03]\n",
      " [9.98116493e-01]\n",
      " [7.55679071e-01]\n",
      " [5.77255905e-01]\n",
      " [9.98362720e-01]\n",
      " [9.99212503e-01]\n",
      " [3.83104943e-03]\n",
      " [7.32779324e-01]\n",
      " [9.99564111e-01]\n",
      " [5.36647858e-04]\n",
      " [9.92389500e-01]\n",
      " [9.94063437e-01]\n",
      " [9.95491207e-01]\n",
      " [9.70596135e-01]\n",
      " [9.89297867e-01]\n",
      " [5.23034309e-04]\n",
      " [2.49381526e-03]\n",
      " [5.02896553e-04]\n",
      " [8.78547507e-05]\n",
      " [9.88008261e-01]\n",
      " [6.72070011e-02]\n",
      " [9.98467505e-01]\n",
      " [2.77876675e-01]\n",
      " [9.05178547e-01]\n",
      " [5.89705229e-01]\n",
      " [9.71476606e-04]\n",
      " [6.17043898e-02]\n",
      " [2.99301726e-04]\n",
      " [1.18383825e-01]\n",
      " [9.21810865e-01]\n",
      " [9.93125081e-01]\n",
      " [9.84685302e-01]\n",
      " [9.13862407e-01]\n",
      " [9.98060286e-01]\n",
      " [9.96292651e-01]\n",
      " [9.65442002e-01]]\n"
     ]
    }
   ],
   "source": [
    "# Membuat prediksi\n",
    "P = model.predict(X_test)\n",
    "print(P) #Output dari sigmoid, Mengintepretasikan probability p(y = 1 | x)"
   ]
  },
  {
   "cell_type": "code",
   "execution_count": 19,
   "id": "6df16957",
   "metadata": {},
   "outputs": [
    {
     "name": "stdout",
     "output_type": "stream",
     "text": [
      "[0. 1. 0. 1. 1. 0. 1. 0. 1. 1. 1. 1. 1. 0. 1. 1. 1. 1. 1. 1. 1. 0. 0. 0.\n",
      " 0. 1. 1. 0. 1. 0. 1. 1. 1. 1. 1. 1. 0. 1. 0. 1. 1. 1. 0. 1. 1. 1. 1. 1.\n",
      " 1. 1. 0. 1. 0. 1. 1. 1. 1. 1. 1. 1. 1. 1. 1. 1. 1. 0. 1. 1. 0. 1. 0. 1.\n",
      " 0. 1. 1. 1. 1. 1. 0. 0. 1. 1. 1. 1. 1. 1. 1. 1. 0. 1. 0. 1. 1. 1. 1. 1.\n",
      " 1. 0. 1. 1. 1. 1. 1. 1. 0. 1. 1. 0. 1. 1. 1. 1. 1. 1. 0. 1. 0. 1. 1. 0.\n",
      " 1. 0. 1. 1. 1. 0. 0. 1. 1. 1. 1. 1. 0. 0. 1. 1. 1. 0. 1. 1. 1. 0. 1. 1.\n",
      " 0. 1. 1. 1. 1. 1. 0. 0. 0. 1. 1. 1. 1. 1. 0. 1. 1. 0. 1. 1. 1. 1. 1. 0.\n",
      " 0. 0. 0. 1. 0. 1. 0. 1. 1. 0. 0. 0. 0. 1. 1. 1. 1. 1. 1. 1.]\n"
     ]
    }
   ],
   "source": [
    "#Pembulatan untuk mendapatkan prediksi sebenarnya\n",
    "import numpy as np\n",
    "P = np.round(P).flatten()\n",
    "print(P)"
   ]
  },
  {
   "cell_type": "code",
   "execution_count": 20,
   "id": "c33b66c1",
   "metadata": {},
   "outputs": [
    {
     "name": "stdout",
     "output_type": "stream",
     "text": [
      "Manually calculated accuracy: 0.973404255319149\n",
      "6/6 [==============================] - 0s 11ms/step - loss: 0.0976 - accuracy: 0.9734\n",
      "Evaluate output: [0.09756498038768768, 0.9734042286872864]\n"
     ]
    }
   ],
   "source": [
    "# Perhitungan dari akurasi, membandingkan dengan hasil evaluasi\n",
    "print(\"Manually calculated accuracy:\", np.mean(P == y_test))\n",
    "print(\"Evaluate output:\", model.evaluate(X_test, y_test))"
   ]
  },
  {
   "cell_type": "markdown",
   "id": "e1f06b14",
   "metadata": {},
   "source": [
    "## SIMPAN MODEL"
   ]
  },
  {
   "cell_type": "code",
   "execution_count": 21,
   "id": "e5ddd328",
   "metadata": {},
   "outputs": [],
   "source": [
    "model.save('linearclassifier.h5') #simpan model ke format h5"
   ]
  },
  {
   "cell_type": "code",
   "execution_count": 24,
   "id": "5355eefd",
   "metadata": {},
   "outputs": [
    {
     "name": "stdout",
     "output_type": "stream",
     "text": [
      "[<tensorflow.python.keras.layers.core.Dense object at 0x0000020D2596DEB0>]\n",
      "6/6 [==============================] - 0s 9ms/step - loss: 0.0976 - accuracy: 0.9734\n"
     ]
    },
    {
     "data": {
      "text/plain": [
       "[0.09756498038768768, 0.9734042286872864]"
      ]
     },
     "execution_count": 24,
     "metadata": {},
     "output_type": "execute_result"
    }
   ],
   "source": [
    "model = tf.keras.models.load_model('linearclassifier.h5')\n",
    "print(model.layers)\n",
    "model.evaluate(X_test, y_test)"
   ]
  }
 ],
 "metadata": {
  "kernelspec": {
   "display_name": "Python 3 (ipykernel)",
   "language": "python",
   "name": "python3"
  },
  "language_info": {
   "codemirror_mode": {
    "name": "ipython",
    "version": 3
   },
   "file_extension": ".py",
   "mimetype": "text/x-python",
   "name": "python",
   "nbconvert_exporter": "python",
   "pygments_lexer": "ipython3",
   "version": "3.9.7"
  }
 },
 "nbformat": 4,
 "nbformat_minor": 5
}
