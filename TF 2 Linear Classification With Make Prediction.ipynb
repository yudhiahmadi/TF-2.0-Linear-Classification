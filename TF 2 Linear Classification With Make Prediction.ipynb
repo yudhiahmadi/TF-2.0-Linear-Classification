{
 "cells": [
  {
   "cell_type": "code",
   "execution_count": 1,
   "id": "36c5adc7",
   "metadata": {},
   "outputs": [
    {
     "name": "stdout",
     "output_type": "stream",
     "text": [
      "2.5.0\n"
     ]
    }
   ],
   "source": [
    "import tensorflow as tf\n",
    "print(tf.__version__)"
   ]
  },
  {
   "cell_type": "code",
   "execution_count": 2,
   "id": "7c916032",
   "metadata": {},
   "outputs": [],
   "source": [
    "# Mengambil data\n",
    "from sklearn.datasets import load_breast_cancer"
   ]
  },
  {
   "cell_type": "code",
   "execution_count": 3,
   "id": "d699c68c",
   "metadata": {},
   "outputs": [],
   "source": [
    "# Memuat data\n",
    "data = load_breast_cancer()"
   ]
  },
  {
   "cell_type": "code",
   "execution_count": 4,
   "id": "4bebb399",
   "metadata": {},
   "outputs": [
    {
     "data": {
      "text/plain": [
       "sklearn.utils.Bunch"
      ]
     },
     "execution_count": 4,
     "metadata": {},
     "output_type": "execute_result"
    }
   ],
   "source": [
    "#mengecheck tipe data\n",
    "type(data)"
   ]
  },
  {
   "cell_type": "code",
   "execution_count": 5,
   "id": "7ccb54ea",
   "metadata": {},
   "outputs": [
    {
     "data": {
      "text/plain": [
       "dict_keys(['data', 'target', 'frame', 'target_names', 'DESCR', 'feature_names', 'filename'])"
      ]
     },
     "execution_count": 5,
     "metadata": {},
     "output_type": "execute_result"
    }
   ],
   "source": [
    "# nb : ini adalah bunch object\n",
    "data.keys()"
   ]
  },
  {
   "cell_type": "code",
   "execution_count": 6,
   "id": "afc916a1",
   "metadata": {},
   "outputs": [
    {
     "data": {
      "text/plain": [
       "(569, 30)"
      ]
     },
     "execution_count": 6,
     "metadata": {},
     "output_type": "execute_result"
    }
   ],
   "source": [
    "data.data.shape"
   ]
  },
  {
   "cell_type": "code",
   "execution_count": 7,
   "id": "17c8db94",
   "metadata": {},
   "outputs": [
    {
     "data": {
      "text/plain": [
       "array([0, 0, 0, 0, 0, 0, 0, 0, 0, 0, 0, 0, 0, 0, 0, 0, 0, 0, 0, 1, 1, 1,\n",
       "       0, 0, 0, 0, 0, 0, 0, 0, 0, 0, 0, 0, 0, 0, 0, 1, 0, 0, 0, 0, 0, 0,\n",
       "       0, 0, 1, 0, 1, 1, 1, 1, 1, 0, 0, 1, 0, 0, 1, 1, 1, 1, 0, 1, 0, 0,\n",
       "       1, 1, 1, 1, 0, 1, 0, 0, 1, 0, 1, 0, 0, 1, 1, 1, 0, 0, 1, 0, 0, 0,\n",
       "       1, 1, 1, 0, 1, 1, 0, 0, 1, 1, 1, 0, 0, 1, 1, 1, 1, 0, 1, 1, 0, 1,\n",
       "       1, 1, 1, 1, 1, 1, 1, 0, 0, 0, 1, 0, 0, 1, 1, 1, 0, 0, 1, 0, 1, 0,\n",
       "       0, 1, 0, 0, 1, 1, 0, 1, 1, 0, 1, 1, 1, 1, 0, 1, 1, 1, 1, 1, 1, 1,\n",
       "       1, 1, 0, 1, 1, 1, 1, 0, 0, 1, 0, 1, 1, 0, 0, 1, 1, 0, 0, 1, 1, 1,\n",
       "       1, 0, 1, 1, 0, 0, 0, 1, 0, 1, 0, 1, 1, 1, 0, 1, 1, 0, 0, 1, 0, 0,\n",
       "       0, 0, 1, 0, 0, 0, 1, 0, 1, 0, 1, 1, 0, 1, 0, 0, 0, 0, 1, 1, 0, 0,\n",
       "       1, 1, 1, 0, 1, 1, 1, 1, 1, 0, 0, 1, 1, 0, 1, 1, 0, 0, 1, 0, 1, 1,\n",
       "       1, 1, 0, 1, 1, 1, 1, 1, 0, 1, 0, 0, 0, 0, 0, 0, 0, 0, 0, 0, 0, 0,\n",
       "       0, 0, 1, 1, 1, 1, 1, 1, 0, 1, 0, 1, 1, 0, 1, 1, 0, 1, 0, 0, 1, 1,\n",
       "       1, 1, 1, 1, 1, 1, 1, 1, 1, 1, 1, 0, 1, 1, 0, 1, 0, 1, 1, 1, 1, 1,\n",
       "       1, 1, 1, 1, 1, 1, 1, 1, 1, 0, 1, 1, 1, 0, 1, 0, 1, 1, 1, 1, 0, 0,\n",
       "       0, 1, 1, 1, 1, 0, 1, 0, 1, 0, 1, 1, 1, 0, 1, 1, 1, 1, 1, 1, 1, 0,\n",
       "       0, 0, 1, 1, 1, 1, 1, 1, 1, 1, 1, 1, 1, 0, 0, 1, 0, 0, 0, 1, 0, 0,\n",
       "       1, 1, 1, 1, 1, 0, 1, 1, 1, 1, 1, 0, 1, 1, 1, 0, 1, 1, 0, 0, 1, 1,\n",
       "       1, 1, 1, 1, 0, 1, 1, 1, 1, 1, 1, 1, 0, 1, 1, 1, 1, 1, 0, 1, 1, 0,\n",
       "       1, 1, 1, 1, 1, 1, 1, 1, 1, 1, 1, 1, 0, 1, 0, 0, 1, 0, 1, 1, 1, 1,\n",
       "       1, 0, 1, 1, 0, 1, 0, 1, 1, 0, 1, 0, 1, 1, 1, 1, 1, 1, 1, 1, 0, 0,\n",
       "       1, 1, 1, 1, 1, 1, 0, 1, 1, 1, 1, 1, 1, 1, 1, 1, 1, 0, 1, 1, 1, 1,\n",
       "       1, 1, 1, 0, 1, 0, 1, 1, 0, 1, 1, 1, 1, 1, 0, 0, 1, 0, 1, 0, 1, 1,\n",
       "       1, 1, 1, 0, 1, 1, 0, 1, 0, 1, 0, 0, 1, 1, 1, 0, 1, 1, 1, 1, 1, 1,\n",
       "       1, 1, 1, 1, 1, 0, 1, 0, 0, 1, 1, 1, 1, 1, 1, 1, 1, 1, 1, 1, 1, 1,\n",
       "       1, 1, 1, 1, 1, 1, 1, 1, 1, 1, 1, 1, 0, 0, 0, 0, 0, 0, 1])"
      ]
     },
     "execution_count": 7,
     "metadata": {},
     "output_type": "execute_result"
    }
   ],
   "source": [
    "data.target"
   ]
  },
  {
   "cell_type": "code",
   "execution_count": 8,
   "id": "1044293d",
   "metadata": {},
   "outputs": [
    {
     "data": {
      "text/plain": [
       "array(['malignant', 'benign'], dtype='<U9')"
      ]
     },
     "execution_count": 8,
     "metadata": {},
     "output_type": "execute_result"
    }
   ],
   "source": [
    "data.target_names"
   ]
  },
  {
   "cell_type": "code",
   "execution_count": 9,
   "id": "545dfdc8",
   "metadata": {},
   "outputs": [
    {
     "data": {
      "text/plain": [
       "(569,)"
      ]
     },
     "execution_count": 9,
     "metadata": {},
     "output_type": "execute_result"
    }
   ],
   "source": [
    "#dimensi\n",
    "data.target.shape"
   ]
  },
  {
   "cell_type": "code",
   "execution_count": 10,
   "id": "ef9ac2dd",
   "metadata": {},
   "outputs": [
    {
     "data": {
      "text/plain": [
       "array(['mean radius', 'mean texture', 'mean perimeter', 'mean area',\n",
       "       'mean smoothness', 'mean compactness', 'mean concavity',\n",
       "       'mean concave points', 'mean symmetry', 'mean fractal dimension',\n",
       "       'radius error', 'texture error', 'perimeter error', 'area error',\n",
       "       'smoothness error', 'compactness error', 'concavity error',\n",
       "       'concave points error', 'symmetry error',\n",
       "       'fractal dimension error', 'worst radius', 'worst texture',\n",
       "       'worst perimeter', 'worst area', 'worst smoothness',\n",
       "       'worst compactness', 'worst concavity', 'worst concave points',\n",
       "       'worst symmetry', 'worst fractal dimension'], dtype='<U23')"
      ]
     },
     "execution_count": 10,
     "metadata": {},
     "output_type": "execute_result"
    }
   ],
   "source": [
    "data.feature_names"
   ]
  },
  {
   "cell_type": "code",
   "execution_count": 11,
   "id": "6eaf2430",
   "metadata": {},
   "outputs": [],
   "source": [
    "#library memabntu dalam membagi data\n",
    "from sklearn.model_selection import train_test_split"
   ]
  },
  {
   "cell_type": "code",
   "execution_count": 12,
   "id": "c6ffc552",
   "metadata": {},
   "outputs": [],
   "source": [
    "X_train, X_test, y_train, y_test = train_test_split(data.data, data.target, test_size=0.33)\n",
    "N, D = X_train.shape"
   ]
  },
  {
   "cell_type": "code",
   "execution_count": 13,
   "id": "996aebf1",
   "metadata": {},
   "outputs": [],
   "source": [
    "#Standarisasi Data\n",
    "from sklearn.preprocessing import StandardScaler\n",
    "\n",
    "scaler = StandardScaler()\n",
    "\n",
    "X_train = scaler.fit_transform(X_train)\n",
    "X_test = scaler.transform(X_test)"
   ]
  },
  {
   "cell_type": "code",
   "execution_count": 14,
   "id": "d08e9b34",
   "metadata": {},
   "outputs": [
    {
     "name": "stdout",
     "output_type": "stream",
     "text": [
      "WARNING:tensorflow:Please add `keras.layers.InputLayer` instead of `keras.Input` to Sequential model. `keras.Input` is intended to be used by Functional model.\n",
      "Epoch 1/100\n",
      "12/12 [==============================] - 4s 42ms/step - loss: 0.2825 - accuracy: 0.9213 - val_loss: 0.2661 - val_accuracy: 0.9521\n",
      "Epoch 2/100\n",
      "12/12 [==============================] - 0s 17ms/step - loss: 0.2653 - accuracy: 0.9213 - val_loss: 0.2481 - val_accuracy: 0.9521\n",
      "Epoch 3/100\n",
      "12/12 [==============================] - 0s 17ms/step - loss: 0.2506 - accuracy: 0.9213 - val_loss: 0.2326 - val_accuracy: 0.9521\n",
      "Epoch 4/100\n",
      "12/12 [==============================] - 0s 16ms/step - loss: 0.2378 - accuracy: 0.9291 - val_loss: 0.2195 - val_accuracy: 0.9521\n",
      "Epoch 5/100\n",
      "12/12 [==============================] - 0s 17ms/step - loss: 0.2268 - accuracy: 0.9318 - val_loss: 0.2080 - val_accuracy: 0.9521\n",
      "Epoch 6/100\n",
      "12/12 [==============================] - 0s 17ms/step - loss: 0.2174 - accuracy: 0.9370 - val_loss: 0.1976 - val_accuracy: 0.9574\n",
      "Epoch 7/100\n",
      "12/12 [==============================] - 0s 17ms/step - loss: 0.2087 - accuracy: 0.9370 - val_loss: 0.1887 - val_accuracy: 0.9628\n",
      "Epoch 8/100\n",
      "12/12 [==============================] - 0s 20ms/step - loss: 0.2012 - accuracy: 0.9423 - val_loss: 0.1805 - val_accuracy: 0.9628\n",
      "Epoch 9/100\n",
      "12/12 [==============================] - 0s 17ms/step - loss: 0.1943 - accuracy: 0.9449 - val_loss: 0.1734 - val_accuracy: 0.9628\n",
      "Epoch 10/100\n",
      "12/12 [==============================] - 0s 17ms/step - loss: 0.1881 - accuracy: 0.9449 - val_loss: 0.1670 - val_accuracy: 0.9628\n",
      "Epoch 11/100\n",
      "12/12 [==============================] - 0s 18ms/step - loss: 0.1825 - accuracy: 0.9501 - val_loss: 0.1609 - val_accuracy: 0.9681\n",
      "Epoch 12/100\n",
      "12/12 [==============================] - 0s 18ms/step - loss: 0.1773 - accuracy: 0.9528 - val_loss: 0.1555 - val_accuracy: 0.9681\n",
      "Epoch 13/100\n",
      "12/12 [==============================] - 0s 17ms/step - loss: 0.1728 - accuracy: 0.9580 - val_loss: 0.1505 - val_accuracy: 0.9734\n",
      "Epoch 14/100\n",
      "12/12 [==============================] - 0s 19ms/step - loss: 0.1682 - accuracy: 0.9633 - val_loss: 0.1461 - val_accuracy: 0.9734\n",
      "Epoch 15/100\n",
      "12/12 [==============================] - 0s 17ms/step - loss: 0.1640 - accuracy: 0.9633 - val_loss: 0.1420 - val_accuracy: 0.9734\n",
      "Epoch 16/100\n",
      "12/12 [==============================] - 0s 17ms/step - loss: 0.1604 - accuracy: 0.9633 - val_loss: 0.1383 - val_accuracy: 0.9734\n",
      "Epoch 17/100\n",
      "12/12 [==============================] - 0s 17ms/step - loss: 0.1568 - accuracy: 0.9633 - val_loss: 0.1347 - val_accuracy: 0.9734\n",
      "Epoch 18/100\n",
      "12/12 [==============================] - 0s 17ms/step - loss: 0.1536 - accuracy: 0.9633 - val_loss: 0.1313 - val_accuracy: 0.9734\n",
      "Epoch 19/100\n",
      "12/12 [==============================] - 0s 17ms/step - loss: 0.1506 - accuracy: 0.9633 - val_loss: 0.1281 - val_accuracy: 0.9734\n",
      "Epoch 20/100\n",
      "12/12 [==============================] - 0s 18ms/step - loss: 0.1476 - accuracy: 0.9633 - val_loss: 0.1253 - val_accuracy: 0.9734\n",
      "Epoch 21/100\n",
      "12/12 [==============================] - 0s 17ms/step - loss: 0.1448 - accuracy: 0.9633 - val_loss: 0.1227 - val_accuracy: 0.9787\n",
      "Epoch 22/100\n",
      "12/12 [==============================] - 0s 18ms/step - loss: 0.1423 - accuracy: 0.9659 - val_loss: 0.1201 - val_accuracy: 0.9787\n",
      "Epoch 23/100\n",
      "12/12 [==============================] - 0s 17ms/step - loss: 0.1399 - accuracy: 0.9659 - val_loss: 0.1179 - val_accuracy: 0.9787\n",
      "Epoch 24/100\n",
      "12/12 [==============================] - 0s 18ms/step - loss: 0.1376 - accuracy: 0.9659 - val_loss: 0.1156 - val_accuracy: 0.9787\n",
      "Epoch 25/100\n",
      "12/12 [==============================] - 0s 18ms/step - loss: 0.1354 - accuracy: 0.9659 - val_loss: 0.1134 - val_accuracy: 0.9787\n",
      "Epoch 26/100\n",
      "12/12 [==============================] - 0s 20ms/step - loss: 0.1334 - accuracy: 0.9659 - val_loss: 0.1115 - val_accuracy: 0.9787\n",
      "Epoch 27/100\n",
      "12/12 [==============================] - 0s 17ms/step - loss: 0.1314 - accuracy: 0.9659 - val_loss: 0.1096 - val_accuracy: 0.9787\n",
      "Epoch 28/100\n",
      "12/12 [==============================] - 0s 17ms/step - loss: 0.1295 - accuracy: 0.9659 - val_loss: 0.1079 - val_accuracy: 0.9787\n",
      "Epoch 29/100\n",
      "12/12 [==============================] - 0s 17ms/step - loss: 0.1279 - accuracy: 0.9659 - val_loss: 0.1061 - val_accuracy: 0.9787\n",
      "Epoch 30/100\n",
      "12/12 [==============================] - 0s 17ms/step - loss: 0.1261 - accuracy: 0.9659 - val_loss: 0.1046 - val_accuracy: 0.9787\n",
      "Epoch 31/100\n",
      "12/12 [==============================] - 0s 17ms/step - loss: 0.1246 - accuracy: 0.9659 - val_loss: 0.1030 - val_accuracy: 0.9787\n",
      "Epoch 32/100\n",
      "12/12 [==============================] - 0s 18ms/step - loss: 0.1229 - accuracy: 0.9659 - val_loss: 0.1016 - val_accuracy: 0.9787\n",
      "Epoch 33/100\n",
      "12/12 [==============================] - 0s 17ms/step - loss: 0.1215 - accuracy: 0.9659 - val_loss: 0.1003 - val_accuracy: 0.9787\n",
      "Epoch 34/100\n",
      "12/12 [==============================] - 0s 17ms/step - loss: 0.1201 - accuracy: 0.9659 - val_loss: 0.0989 - val_accuracy: 0.9787\n",
      "Epoch 35/100\n",
      "12/12 [==============================] - 0s 17ms/step - loss: 0.1187 - accuracy: 0.9685 - val_loss: 0.0977 - val_accuracy: 0.9787\n",
      "Epoch 36/100\n",
      "12/12 [==============================] - 0s 17ms/step - loss: 0.1175 - accuracy: 0.9685 - val_loss: 0.0964 - val_accuracy: 0.9787\n",
      "Epoch 37/100\n",
      "12/12 [==============================] - 0s 18ms/step - loss: 0.1162 - accuracy: 0.9685 - val_loss: 0.0954 - val_accuracy: 0.9787\n",
      "Epoch 38/100\n",
      "12/12 [==============================] - 0s 17ms/step - loss: 0.1150 - accuracy: 0.9685 - val_loss: 0.0942 - val_accuracy: 0.9787\n",
      "Epoch 39/100\n",
      "12/12 [==============================] - 0s 17ms/step - loss: 0.1138 - accuracy: 0.9685 - val_loss: 0.0931 - val_accuracy: 0.9787\n",
      "Epoch 40/100\n",
      "12/12 [==============================] - 0s 17ms/step - loss: 0.1127 - accuracy: 0.9685 - val_loss: 0.0920 - val_accuracy: 0.9787\n",
      "Epoch 41/100\n",
      "12/12 [==============================] - 0s 17ms/step - loss: 0.1117 - accuracy: 0.9685 - val_loss: 0.0912 - val_accuracy: 0.9787\n",
      "Epoch 42/100\n",
      "12/12 [==============================] - 0s 17ms/step - loss: 0.1106 - accuracy: 0.9685 - val_loss: 0.0902 - val_accuracy: 0.9787\n",
      "Epoch 43/100\n",
      "12/12 [==============================] - 0s 18ms/step - loss: 0.1097 - accuracy: 0.9685 - val_loss: 0.0893 - val_accuracy: 0.9840\n",
      "Epoch 44/100\n",
      "12/12 [==============================] - 0s 18ms/step - loss: 0.1087 - accuracy: 0.9711 - val_loss: 0.0884 - val_accuracy: 0.9894\n",
      "Epoch 45/100\n",
      "12/12 [==============================] - 0s 18ms/step - loss: 0.1077 - accuracy: 0.9711 - val_loss: 0.0876 - val_accuracy: 0.9894\n",
      "Epoch 46/100\n",
      "12/12 [==============================] - 0s 18ms/step - loss: 0.1068 - accuracy: 0.9711 - val_loss: 0.0868 - val_accuracy: 0.9894\n",
      "Epoch 47/100\n",
      "12/12 [==============================] - 0s 19ms/step - loss: 0.1059 - accuracy: 0.9711 - val_loss: 0.0861 - val_accuracy: 0.9894\n",
      "Epoch 48/100\n",
      "12/12 [==============================] - 0s 22ms/step - loss: 0.1052 - accuracy: 0.9738 - val_loss: 0.0852 - val_accuracy: 0.9894\n",
      "Epoch 49/100\n",
      "12/12 [==============================] - 0s 20ms/step - loss: 0.1043 - accuracy: 0.9764 - val_loss: 0.0845 - val_accuracy: 0.9894\n",
      "Epoch 50/100\n",
      "12/12 [==============================] - 0s 17ms/step - loss: 0.1035 - accuracy: 0.9764 - val_loss: 0.0838 - val_accuracy: 0.9894\n",
      "Epoch 51/100\n",
      "12/12 [==============================] - 0s 20ms/step - loss: 0.1027 - accuracy: 0.9764 - val_loss: 0.0832 - val_accuracy: 0.9894\n",
      "Epoch 52/100\n",
      "12/12 [==============================] - 0s 18ms/step - loss: 0.1020 - accuracy: 0.9764 - val_loss: 0.0825 - val_accuracy: 0.9894\n",
      "Epoch 53/100\n",
      "12/12 [==============================] - 0s 17ms/step - loss: 0.1013 - accuracy: 0.9764 - val_loss: 0.0818 - val_accuracy: 0.9894\n",
      "Epoch 54/100\n",
      "12/12 [==============================] - 0s 18ms/step - loss: 0.1005 - accuracy: 0.9764 - val_loss: 0.0812 - val_accuracy: 0.9894\n",
      "Epoch 55/100\n",
      "12/12 [==============================] - 0s 17ms/step - loss: 0.0999 - accuracy: 0.9764 - val_loss: 0.0806 - val_accuracy: 0.9894\n",
      "Epoch 56/100\n",
      "12/12 [==============================] - 0s 17ms/step - loss: 0.0992 - accuracy: 0.9764 - val_loss: 0.0800 - val_accuracy: 0.9894\n",
      "Epoch 57/100\n"
     ]
    },
    {
     "name": "stdout",
     "output_type": "stream",
     "text": [
      "12/12 [==============================] - 0s 17ms/step - loss: 0.0985 - accuracy: 0.9764 - val_loss: 0.0795 - val_accuracy: 0.9894\n",
      "Epoch 58/100\n",
      "12/12 [==============================] - 0s 16ms/step - loss: 0.0980 - accuracy: 0.9764 - val_loss: 0.0789 - val_accuracy: 0.9894\n",
      "Epoch 59/100\n",
      "12/12 [==============================] - 0s 16ms/step - loss: 0.0973 - accuracy: 0.9764 - val_loss: 0.0784 - val_accuracy: 0.9894\n",
      "Epoch 60/100\n",
      "12/12 [==============================] - 0s 16ms/step - loss: 0.0967 - accuracy: 0.9764 - val_loss: 0.0779 - val_accuracy: 0.9894\n",
      "Epoch 61/100\n",
      "12/12 [==============================] - 0s 17ms/step - loss: 0.0961 - accuracy: 0.9764 - val_loss: 0.0773 - val_accuracy: 0.9894\n",
      "Epoch 62/100\n",
      "12/12 [==============================] - 0s 16ms/step - loss: 0.0956 - accuracy: 0.9764 - val_loss: 0.0769 - val_accuracy: 0.9894\n",
      "Epoch 63/100\n",
      "12/12 [==============================] - 0s 16ms/step - loss: 0.0951 - accuracy: 0.9764 - val_loss: 0.0763 - val_accuracy: 0.9894\n",
      "Epoch 64/100\n",
      "12/12 [==============================] - 0s 16ms/step - loss: 0.0945 - accuracy: 0.9764 - val_loss: 0.0759 - val_accuracy: 0.9894\n",
      "Epoch 65/100\n",
      "12/12 [==============================] - 0s 16ms/step - loss: 0.0940 - accuracy: 0.9790 - val_loss: 0.0755 - val_accuracy: 0.9894\n",
      "Epoch 66/100\n",
      "12/12 [==============================] - 0s 16ms/step - loss: 0.0934 - accuracy: 0.9790 - val_loss: 0.0750 - val_accuracy: 0.9894\n",
      "Epoch 67/100\n",
      "12/12 [==============================] - 0s 16ms/step - loss: 0.0930 - accuracy: 0.9790 - val_loss: 0.0746 - val_accuracy: 0.9894\n",
      "Epoch 68/100\n",
      "12/12 [==============================] - 0s 16ms/step - loss: 0.0924 - accuracy: 0.9790 - val_loss: 0.0742 - val_accuracy: 0.9894\n",
      "Epoch 69/100\n",
      "12/12 [==============================] - 0s 16ms/step - loss: 0.0920 - accuracy: 0.9816 - val_loss: 0.0738 - val_accuracy: 0.9894\n",
      "Epoch 70/100\n",
      "12/12 [==============================] - 0s 19ms/step - loss: 0.0915 - accuracy: 0.9816 - val_loss: 0.0733 - val_accuracy: 0.9894\n",
      "Epoch 71/100\n",
      "12/12 [==============================] - 0s 20ms/step - loss: 0.0911 - accuracy: 0.9816 - val_loss: 0.0730 - val_accuracy: 0.9894\n",
      "Epoch 72/100\n",
      "12/12 [==============================] - 0s 21ms/step - loss: 0.0906 - accuracy: 0.9816 - val_loss: 0.0726 - val_accuracy: 0.9894\n",
      "Epoch 73/100\n",
      "12/12 [==============================] - 0s 18ms/step - loss: 0.0902 - accuracy: 0.9816 - val_loss: 0.0721 - val_accuracy: 0.9894\n",
      "Epoch 74/100\n",
      "12/12 [==============================] - 0s 19ms/step - loss: 0.0897 - accuracy: 0.9816 - val_loss: 0.0717 - val_accuracy: 0.9894\n",
      "Epoch 75/100\n",
      "12/12 [==============================] - 0s 20ms/step - loss: 0.0893 - accuracy: 0.9816 - val_loss: 0.0714 - val_accuracy: 0.9894\n",
      "Epoch 76/100\n",
      "12/12 [==============================] - 0s 22ms/step - loss: 0.0889 - accuracy: 0.9816 - val_loss: 0.0712 - val_accuracy: 0.9894\n",
      "Epoch 77/100\n",
      "12/12 [==============================] - 0s 19ms/step - loss: 0.0885 - accuracy: 0.9816 - val_loss: 0.0708 - val_accuracy: 0.9894\n",
      "Epoch 78/100\n",
      "12/12 [==============================] - 0s 25ms/step - loss: 0.0881 - accuracy: 0.9816 - val_loss: 0.0705 - val_accuracy: 0.9894\n",
      "Epoch 79/100\n",
      "12/12 [==============================] - 0s 21ms/step - loss: 0.0878 - accuracy: 0.9816 - val_loss: 0.0700 - val_accuracy: 0.9894\n",
      "Epoch 80/100\n",
      "12/12 [==============================] - 0s 18ms/step - loss: 0.0873 - accuracy: 0.9843 - val_loss: 0.0697 - val_accuracy: 0.9894\n",
      "Epoch 81/100\n",
      "12/12 [==============================] - 0s 19ms/step - loss: 0.0870 - accuracy: 0.9843 - val_loss: 0.0694 - val_accuracy: 0.9894\n",
      "Epoch 82/100\n",
      "12/12 [==============================] - 0s 20ms/step - loss: 0.0866 - accuracy: 0.9843 - val_loss: 0.0691 - val_accuracy: 0.9894\n",
      "Epoch 83/100\n",
      "12/12 [==============================] - 0s 18ms/step - loss: 0.0862 - accuracy: 0.9843 - val_loss: 0.0689 - val_accuracy: 0.9894\n",
      "Epoch 84/100\n",
      "12/12 [==============================] - 0s 19ms/step - loss: 0.0859 - accuracy: 0.9843 - val_loss: 0.0686 - val_accuracy: 0.9894\n",
      "Epoch 85/100\n",
      "12/12 [==============================] - 0s 24ms/step - loss: 0.0855 - accuracy: 0.9843 - val_loss: 0.0683 - val_accuracy: 0.9894\n",
      "Epoch 86/100\n",
      "12/12 [==============================] - 0s 18ms/step - loss: 0.0852 - accuracy: 0.9843 - val_loss: 0.0679 - val_accuracy: 0.9894\n",
      "Epoch 87/100\n",
      "12/12 [==============================] - 0s 18ms/step - loss: 0.0849 - accuracy: 0.9843 - val_loss: 0.0677 - val_accuracy: 0.9894\n",
      "Epoch 88/100\n",
      "12/12 [==============================] - 0s 21ms/step - loss: 0.0846 - accuracy: 0.9843 - val_loss: 0.0675 - val_accuracy: 0.9894\n",
      "Epoch 89/100\n",
      "12/12 [==============================] - 0s 18ms/step - loss: 0.0842 - accuracy: 0.9843 - val_loss: 0.0672 - val_accuracy: 0.9894\n",
      "Epoch 90/100\n",
      "12/12 [==============================] - 0s 18ms/step - loss: 0.0839 - accuracy: 0.9843 - val_loss: 0.0670 - val_accuracy: 0.9894\n",
      "Epoch 91/100\n",
      "12/12 [==============================] - 0s 19ms/step - loss: 0.0836 - accuracy: 0.9843 - val_loss: 0.0667 - val_accuracy: 0.9894\n",
      "Epoch 92/100\n",
      "12/12 [==============================] - 0s 18ms/step - loss: 0.0833 - accuracy: 0.9843 - val_loss: 0.0664 - val_accuracy: 0.9894\n",
      "Epoch 93/100\n",
      "12/12 [==============================] - 0s 22ms/step - loss: 0.0831 - accuracy: 0.9843 - val_loss: 0.0662 - val_accuracy: 0.9894\n",
      "Epoch 94/100\n",
      "12/12 [==============================] - 0s 18ms/step - loss: 0.0827 - accuracy: 0.9843 - val_loss: 0.0660 - val_accuracy: 0.9894\n",
      "Epoch 95/100\n",
      "12/12 [==============================] - 0s 18ms/step - loss: 0.0824 - accuracy: 0.9843 - val_loss: 0.0658 - val_accuracy: 0.9894\n",
      "Epoch 96/100\n",
      "12/12 [==============================] - 0s 19ms/step - loss: 0.0821 - accuracy: 0.9843 - val_loss: 0.0655 - val_accuracy: 0.9894\n",
      "Epoch 97/100\n",
      "12/12 [==============================] - 0s 20ms/step - loss: 0.0818 - accuracy: 0.9843 - val_loss: 0.0653 - val_accuracy: 0.9894\n",
      "Epoch 98/100\n",
      "12/12 [==============================] - 0s 24ms/step - loss: 0.0816 - accuracy: 0.9843 - val_loss: 0.0651 - val_accuracy: 0.9894\n",
      "Epoch 99/100\n",
      "12/12 [==============================] - 0s 21ms/step - loss: 0.0813 - accuracy: 0.9843 - val_loss: 0.0648 - val_accuracy: 0.9894\n",
      "Epoch 100/100\n",
      "12/12 [==============================] - 0s 24ms/step - loss: 0.0810 - accuracy: 0.9843 - val_loss: 0.0646 - val_accuracy: 0.9894\n",
      "12/12 [==============================] - 0s 8ms/step - loss: 0.0808 - accuracy: 0.9843\n",
      "Train score: [0.08084766566753387, 0.9842519760131836]\n",
      "6/6 [==============================] - 0s 10ms/step - loss: 0.0646 - accuracy: 0.9894\n",
      "Test score: [0.06461134552955627, 0.9893617033958435]\n"
     ]
    }
   ],
   "source": [
    "#Membangun model\n",
    "model = tf.keras.models.Sequential([\n",
    "    tf.keras.layers.Input(shape=(D,)),\n",
    "    tf.keras.layers.Dense(1, activation='sigmoid')\n",
    "])\n",
    "\n",
    "model.compile(optimizer='adam',\n",
    "             loss='binary_crossentropy',\n",
    "             metrics=['accuracy'])\n",
    "\n",
    "# Training data\n",
    "r = model.fit(X_train, y_train, validation_data=(X_test, y_test), epochs=100)\n",
    "\n",
    "# Evaluasi model dengan loss dan akurasi\n",
    "print(\"Train score:\", model.evaluate(X_train, y_train))\n",
    "print(\"Test score:\", model.evaluate(X_test, y_test))"
   ]
  },
  {
   "cell_type": "code",
   "execution_count": 15,
   "id": "46b180e4",
   "metadata": {},
   "outputs": [
    {
     "data": {
      "text/plain": [
       "<matplotlib.legend.Legend at 0x1eebd21ce80>"
      ]
     },
     "execution_count": 15,
     "metadata": {},
     "output_type": "execute_result"
    },
    {
     "data": {
      "image/png": "[encoded data removed]",
      "text/plain": [
       "<Figure size 432x288 with 1 Axes>"
      ]
     },
     "metadata": {
      "needs_background": "light"
     },
     "output_type": "display_data"
    }
   ],
   "source": [
    "# plot hasil model.fit() grafik loss\n",
    "import matplotlib.pyplot as plt\n",
    "plt.plot(r.history['loss'], label='loss')\n",
    "plt.plot(r.history['val_loss'], label='val loss')\n",
    "plt.legend()"
   ]
  },
  {
   "cell_type": "code",
   "execution_count": 16,
   "id": "eaeca701",
   "metadata": {},
   "outputs": [
    {
     "data": {
      "text/plain": [
       "<matplotlib.legend.Legend at 0x1eebd324a00>"
      ]
     },
     "execution_count": 16,
     "metadata": {},
     "output_type": "execute_result"
    },
    {
     "data": {
      "image/png": "[encoded data removed]",
      "text/plain": [
       "<Figure size 432x288 with 1 Axes>"
      ]
     },
     "metadata": {
      "needs_background": "light"
     },
     "output_type": "display_data"
    }
   ],
   "source": [
    "#grafik plot akurasi\n",
    "plt.plot(r.history['accuracy'], label='akurasi')\n",
    "plt.plot(r.history['val_accuracy'], label='val_akurasi')\n",
    "plt.legend()"
   ]
  },
  {
   "cell_type": "markdown",
   "id": "fef51255",
   "metadata": {},
   "source": [
    "## Part 2 : Membuat Prediksi"
   ]
  },
  {
   "cell_type": "code",
   "execution_count": 18,
   "id": "d6663750",
   "metadata": {},
   "outputs": [
    {
     "name": "stdout",
     "output_type": "stream",
     "text": [
      "[[9.92282927e-01]\n",
      " [1.27753317e-02]\n",
      " [9.87646043e-01]\n",
      " [3.03657900e-04]\n",
      " [9.37157810e-01]\n",
      " [2.63434917e-01]\n",
      " [9.05032635e-01]\n",
      " [9.76005256e-01]\n",
      " [4.36760238e-05]\n",
      " [9.99581754e-01]\n",
      " [9.99971390e-01]\n",
      " [9.90316212e-01]\n",
      " [4.39239591e-01]\n",
      " [9.77392852e-01]\n",
      " [6.42989122e-04]\n",
      " [7.33968735e-01]\n",
      " [9.95523897e-06]\n",
      " [1.21513964e-04]\n",
      " [4.78361873e-03]\n",
      " [1.12325733e-03]\n",
      " [1.76352076e-02]\n",
      " [2.20771506e-01]\n",
      " [8.89404118e-01]\n",
      " [9.96171772e-01]\n",
      " [9.94883597e-01]\n",
      " [8.76957059e-01]\n",
      " [1.20619541e-08]\n",
      " [8.47278989e-06]\n",
      " [9.85493124e-01]\n",
      " [6.07496798e-01]\n",
      " [7.73942530e-01]\n",
      " [6.39945711e-07]\n",
      " [9.99131858e-01]\n",
      " [9.98897791e-01]\n",
      " [9.51610148e-01]\n",
      " [9.70709801e-01]\n",
      " [2.98272676e-06]\n",
      " [9.97961998e-01]\n",
      " [4.01009951e-04]\n",
      " [9.97960091e-01]\n",
      " [5.64925373e-03]\n",
      " [3.85360181e-01]\n",
      " [3.60020408e-06]\n",
      " [1.14911445e-05]\n",
      " [9.84187484e-01]\n",
      " [9.89480257e-01]\n",
      " [9.99655485e-01]\n",
      " [9.70558524e-01]\n",
      " [9.98871982e-01]\n",
      " [9.93206382e-01]\n",
      " [4.72181886e-02]\n",
      " [2.60832667e-01]\n",
      " [9.79389012e-01]\n",
      " [3.22406304e-05]\n",
      " [9.88823354e-01]\n",
      " [3.73839959e-10]\n",
      " [9.96186554e-01]\n",
      " [9.99517679e-01]\n",
      " [9.98551786e-01]\n",
      " [9.72493887e-01]\n",
      " [9.99482870e-01]\n",
      " [9.75397766e-01]\n",
      " [9.89975393e-01]\n",
      " [5.59312999e-14]\n",
      " [9.97043431e-01]\n",
      " [4.84324843e-02]\n",
      " [9.92790341e-01]\n",
      " [9.97876048e-01]\n",
      " [9.19735551e-01]\n",
      " [9.99372423e-01]\n",
      " [9.96343672e-01]\n",
      " [2.17410512e-02]\n",
      " [9.95623887e-01]\n",
      " [2.13624518e-02]\n",
      " [9.96230900e-01]\n",
      " [6.18592277e-02]\n",
      " [8.95335138e-01]\n",
      " [2.53230337e-05]\n",
      " [2.95296795e-05]\n",
      " [9.99330044e-01]\n",
      " [9.78879511e-01]\n",
      " [9.63416815e-01]\n",
      " [6.96608098e-03]\n",
      " [9.95860398e-01]\n",
      " [9.98594463e-01]\n",
      " [1.48358055e-08]\n",
      " [9.98784602e-01]\n",
      " [9.87461150e-01]\n",
      " [9.98070061e-01]\n",
      " [1.36576506e-04]\n",
      " [1.12543593e-03]\n",
      " [9.97307658e-01]\n",
      " [9.98121560e-01]\n",
      " [5.70688164e-03]\n",
      " [4.98295240e-02]\n",
      " [8.82257300e-05]\n",
      " [9.98937547e-01]\n",
      " [9.93028820e-01]\n",
      " [9.97508287e-01]\n",
      " [8.51123989e-01]\n",
      " [9.99807179e-01]\n",
      " [9.99480903e-01]\n",
      " [9.13505035e-04]\n",
      " [9.75638270e-01]\n",
      " [8.34215283e-01]\n",
      " [9.99975681e-01]\n",
      " [9.85890031e-01]\n",
      " [1.81646843e-03]\n",
      " [1.01915114e-02]\n",
      " [9.99971747e-01]\n",
      " [9.88798082e-01]\n",
      " [7.63183683e-02]\n",
      " [9.06504452e-01]\n",
      " [9.99576271e-01]\n",
      " [1.49119804e-02]\n",
      " [9.98584867e-01]\n",
      " [9.99750316e-01]\n",
      " [9.96770144e-01]\n",
      " [9.54537690e-01]\n",
      " [9.99276221e-01]\n",
      " [8.51422489e-01]\n",
      " [2.04497889e-01]\n",
      " [4.60238546e-01]\n",
      " [9.19183876e-05]\n",
      " [9.95756090e-01]\n",
      " [5.59346139e-01]\n",
      " [9.37425256e-01]\n",
      " [1.31223705e-02]\n",
      " [9.85823512e-01]\n",
      " [9.86426234e-01]\n",
      " [9.94078994e-01]\n",
      " [1.17221824e-03]\n",
      " [9.94593680e-01]\n",
      " [3.20453430e-04]\n",
      " [4.16415557e-02]\n",
      " [8.74811709e-01]\n",
      " [9.63608384e-01]\n",
      " [3.35385166e-02]\n",
      " [9.72670257e-01]\n",
      " [9.64148641e-01]\n",
      " [5.11278380e-08]\n",
      " [6.85051782e-04]\n",
      " [1.86120683e-08]\n",
      " [2.92626351e-06]\n",
      " [8.82632852e-01]\n",
      " [9.63107228e-01]\n",
      " [9.90784407e-01]\n",
      " [9.94750559e-01]\n",
      " [9.93959665e-01]\n",
      " [9.95525658e-01]\n",
      " [8.71065855e-01]\n",
      " [2.87730657e-02]\n",
      " [6.44892395e-01]\n",
      " [9.70103145e-01]\n",
      " [9.99752820e-01]\n",
      " [9.70666647e-01]\n",
      " [5.57309988e-07]\n",
      " [9.39851701e-01]\n",
      " [5.72040080e-05]\n",
      " [9.90403533e-01]\n",
      " [9.91921782e-01]\n",
      " [9.91191685e-01]\n",
      " [7.13275904e-06]\n",
      " [2.67461235e-08]\n",
      " [9.97126400e-01]\n",
      " [9.97035384e-01]\n",
      " [1.76129374e-03]\n",
      " [9.79862750e-01]\n",
      " [8.43024027e-05]\n",
      " [9.95473921e-01]\n",
      " [9.96934056e-01]\n",
      " [9.93651986e-01]\n",
      " [8.38058531e-01]\n",
      " [1.92109585e-01]\n",
      " [7.31762171e-01]\n",
      " [6.97021723e-01]\n",
      " [9.88056779e-01]\n",
      " [9.60944772e-01]\n",
      " [9.97668207e-01]\n",
      " [9.99082804e-01]\n",
      " [9.99853969e-01]\n",
      " [8.14462781e-01]\n",
      " [9.54180896e-01]\n",
      " [9.97601807e-01]\n",
      " [4.94346675e-10]\n",
      " [6.68899110e-03]\n",
      " [9.65935528e-01]\n",
      " [1.37636997e-03]]\n"
     ]
    }
   ],
   "source": [
    "# Membuat prediksi\n",
    "P = model.predict(X_test)\n",
    "print(P) #Output dari sigmoid, Mengintepretasikan probability p(y = 1 | x)"
   ]
  },
  {
   "cell_type": "code",
   "execution_count": 19,
   "id": "6df16957",
   "metadata": {},
   "outputs": [
    {
     "name": "stdout",
     "output_type": "stream",
     "text": [
      "[1. 0. 1. 0. 1. 0. 1. 1. 0. 1. 1. 1. 0. 1. 0. 1. 0. 0. 0. 0. 0. 0. 1. 1.\n",
      " 1. 1. 0. 0. 1. 1. 1. 0. 1. 1. 1. 1. 0. 1. 0. 1. 0. 0. 0. 0. 1. 1. 1. 1.\n",
      " 1. 1. 0. 0. 1. 0. 1. 0. 1. 1. 1. 1. 1. 1. 1. 0. 1. 0. 1. 1. 1. 1. 1. 0.\n",
      " 1. 0. 1. 0. 1. 0. 0. 1. 1. 1. 0. 1. 1. 0. 1. 1. 1. 0. 0. 1. 1. 0. 0. 0.\n",
      " 1. 1. 1. 1. 1. 1. 0. 1. 1. 1. 1. 0. 0. 1. 1. 0. 1. 1. 0. 1. 1. 1. 1. 1.\n",
      " 1. 0. 0. 0. 1. 1. 1. 0. 1. 1. 1. 0. 1. 0. 0. 1. 1. 0. 1. 1. 0. 0. 0. 0.\n",
      " 1. 1. 1. 1. 1. 1. 1. 0. 1. 1. 1. 1. 0. 1. 0. 1. 1. 1. 0. 0. 1. 1. 0. 1.\n",
      " 0. 1. 1. 1. 1. 0. 1. 1. 1. 1. 1. 1. 1. 1. 1. 1. 0. 0. 1. 0.]\n"
     ]
    }
   ],
   "source": [
    "#Pembulatan untuk mendapatkan prediksi sebenarnya\n",
    "import numpy as np\n",
    "P = np.round(P).flatten()\n",
    "print(P)"
   ]
  },
  {
   "cell_type": "code",
   "execution_count": 20,
   "id": "c33b66c1",
   "metadata": {},
   "outputs": [
    {
     "name": "stdout",
     "output_type": "stream",
     "text": [
      "Manually calculated accuracy: 0.9893617021276596\n",
      "6/6 [==============================] - 0s 8ms/step - loss: 0.0646 - accuracy: 0.9894\n",
      "Evaluate output: [0.06461134552955627, 0.9893617033958435]\n"
     ]
    }
   ],
   "source": [
    "# Perhitungan dari akurasi, membandingkan dengan hasil evaluasi\n",
    "print(\"Manually calculated accuracy:\", np.mean(P == y_test))\n",
    "print(\"Evaluate output:\", model.evaluate(X_test, y_test))"
   ]
  },
  {
   "cell_type": "code",
   "execution_count": null,
   "id": "e7633385",
   "metadata": {},
   "outputs": [],
   "source": []
  }
 ],
 "metadata": {
  "kernelspec": {
   "display_name": "Python 3 (ipykernel)",
   "language": "python",
   "name": "python3"
  },
  "language_info": {
   "codemirror_mode": {
    "name": "ipython",
    "version": 3
   },
   "file_extension": ".py",
   "mimetype": "text/x-python",
   "name": "python",
   "nbconvert_exporter": "python",
   "pygments_lexer": "ipython3",
   "version": "3.9.7"
  }
 },
 "nbformat": 4,
 "nbformat_minor": 5
}
