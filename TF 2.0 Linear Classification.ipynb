{
 "cells": [
  {
   "cell_type": "code",
   "execution_count": 2,
   "id": "36c5adc7",
   "metadata": {},
   "outputs": [
    {
     "name": "stdout",
     "output_type": "stream",
     "text": [
      "2.5.0\n"
     ]
    }
   ],
   "source": [
    "import tensorflow as tf\n",
    "print(tf.__version__)"
   ]
  },
  {
   "cell_type": "code",
   "execution_count": 3,
   "id": "7c916032",
   "metadata": {},
   "outputs": [],
   "source": [
    "# Mengambil data\n",
    "from sklearn.datasets import load_breast_cancer"
   ]
  },
  {
   "cell_type": "code",
   "execution_count": 4,
   "id": "d699c68c",
   "metadata": {},
   "outputs": [],
   "source": [
    "# Memuat data\n",
    "data = load_breast_cancer()"
   ]
  },
  {
   "cell_type": "code",
   "execution_count": 5,
   "id": "4bebb399",
   "metadata": {},
   "outputs": [
    {
     "data": {
      "text/plain": [
       "sklearn.utils.Bunch"
      ]
     },
     "execution_count": 5,
     "metadata": {},
     "output_type": "execute_result"
    }
   ],
   "source": [
    "#mengecheck tipe data\n",
    "type(data)"
   ]
  },
  {
   "cell_type": "code",
   "execution_count": 6,
   "id": "7ccb54ea",
   "metadata": {},
   "outputs": [
    {
     "data": {
      "text/plain": [
       "dict_keys(['data', 'target', 'frame', 'target_names', 'DESCR', 'feature_names', 'filename'])"
      ]
     },
     "execution_count": 6,
     "metadata": {},
     "output_type": "execute_result"
    }
   ],
   "source": [
    "# nb : ini adalah bunch object\n",
    "data.keys()"
   ]
  },
  {
   "cell_type": "code",
   "execution_count": 40,
   "id": "afc916a1",
   "metadata": {},
   "outputs": [
    {
     "data": {
      "text/plain": [
       "(569, 30)"
      ]
     },
     "execution_count": 40,
     "metadata": {},
     "output_type": "execute_result"
    }
   ],
   "source": [
    "data.data.shape"
   ]
  },
  {
   "cell_type": "code",
   "execution_count": 8,
   "id": "17c8db94",
   "metadata": {},
   "outputs": [
    {
     "data": {
      "text/plain": [
       "array([0, 0, 0, 0, 0, 0, 0, 0, 0, 0, 0, 0, 0, 0, 0, 0, 0, 0, 0, 1, 1, 1,\n",
       "       0, 0, 0, 0, 0, 0, 0, 0, 0, 0, 0, 0, 0, 0, 0, 1, 0, 0, 0, 0, 0, 0,\n",
       "       0, 0, 1, 0, 1, 1, 1, 1, 1, 0, 0, 1, 0, 0, 1, 1, 1, 1, 0, 1, 0, 0,\n",
       "       1, 1, 1, 1, 0, 1, 0, 0, 1, 0, 1, 0, 0, 1, 1, 1, 0, 0, 1, 0, 0, 0,\n",
       "       1, 1, 1, 0, 1, 1, 0, 0, 1, 1, 1, 0, 0, 1, 1, 1, 1, 0, 1, 1, 0, 1,\n",
       "       1, 1, 1, 1, 1, 1, 1, 0, 0, 0, 1, 0, 0, 1, 1, 1, 0, 0, 1, 0, 1, 0,\n",
       "       0, 1, 0, 0, 1, 1, 0, 1, 1, 0, 1, 1, 1, 1, 0, 1, 1, 1, 1, 1, 1, 1,\n",
       "       1, 1, 0, 1, 1, 1, 1, 0, 0, 1, 0, 1, 1, 0, 0, 1, 1, 0, 0, 1, 1, 1,\n",
       "       1, 0, 1, 1, 0, 0, 0, 1, 0, 1, 0, 1, 1, 1, 0, 1, 1, 0, 0, 1, 0, 0,\n",
       "       0, 0, 1, 0, 0, 0, 1, 0, 1, 0, 1, 1, 0, 1, 0, 0, 0, 0, 1, 1, 0, 0,\n",
       "       1, 1, 1, 0, 1, 1, 1, 1, 1, 0, 0, 1, 1, 0, 1, 1, 0, 0, 1, 0, 1, 1,\n",
       "       1, 1, 0, 1, 1, 1, 1, 1, 0, 1, 0, 0, 0, 0, 0, 0, 0, 0, 0, 0, 0, 0,\n",
       "       0, 0, 1, 1, 1, 1, 1, 1, 0, 1, 0, 1, 1, 0, 1, 1, 0, 1, 0, 0, 1, 1,\n",
       "       1, 1, 1, 1, 1, 1, 1, 1, 1, 1, 1, 0, 1, 1, 0, 1, 0, 1, 1, 1, 1, 1,\n",
       "       1, 1, 1, 1, 1, 1, 1, 1, 1, 0, 1, 1, 1, 0, 1, 0, 1, 1, 1, 1, 0, 0,\n",
       "       0, 1, 1, 1, 1, 0, 1, 0, 1, 0, 1, 1, 1, 0, 1, 1, 1, 1, 1, 1, 1, 0,\n",
       "       0, 0, 1, 1, 1, 1, 1, 1, 1, 1, 1, 1, 1, 0, 0, 1, 0, 0, 0, 1, 0, 0,\n",
       "       1, 1, 1, 1, 1, 0, 1, 1, 1, 1, 1, 0, 1, 1, 1, 0, 1, 1, 0, 0, 1, 1,\n",
       "       1, 1, 1, 1, 0, 1, 1, 1, 1, 1, 1, 1, 0, 1, 1, 1, 1, 1, 0, 1, 1, 0,\n",
       "       1, 1, 1, 1, 1, 1, 1, 1, 1, 1, 1, 1, 0, 1, 0, 0, 1, 0, 1, 1, 1, 1,\n",
       "       1, 0, 1, 1, 0, 1, 0, 1, 1, 0, 1, 0, 1, 1, 1, 1, 1, 1, 1, 1, 0, 0,\n",
       "       1, 1, 1, 1, 1, 1, 0, 1, 1, 1, 1, 1, 1, 1, 1, 1, 1, 0, 1, 1, 1, 1,\n",
       "       1, 1, 1, 0, 1, 0, 1, 1, 0, 1, 1, 1, 1, 1, 0, 0, 1, 0, 1, 0, 1, 1,\n",
       "       1, 1, 1, 0, 1, 1, 0, 1, 0, 1, 0, 0, 1, 1, 1, 0, 1, 1, 1, 1, 1, 1,\n",
       "       1, 1, 1, 1, 1, 0, 1, 0, 0, 1, 1, 1, 1, 1, 1, 1, 1, 1, 1, 1, 1, 1,\n",
       "       1, 1, 1, 1, 1, 1, 1, 1, 1, 1, 1, 1, 0, 0, 0, 0, 0, 0, 1])"
      ]
     },
     "execution_count": 8,
     "metadata": {},
     "output_type": "execute_result"
    }
   ],
   "source": [
    "data.target"
   ]
  },
  {
   "cell_type": "code",
   "execution_count": 9,
   "id": "1044293d",
   "metadata": {},
   "outputs": [
    {
     "data": {
      "text/plain": [
       "array(['malignant', 'benign'], dtype='<U9')"
      ]
     },
     "execution_count": 9,
     "metadata": {},
     "output_type": "execute_result"
    }
   ],
   "source": [
    "data.target_names"
   ]
  },
  {
   "cell_type": "code",
   "execution_count": 10,
   "id": "545dfdc8",
   "metadata": {},
   "outputs": [
    {
     "data": {
      "text/plain": [
       "(569,)"
      ]
     },
     "execution_count": 10,
     "metadata": {},
     "output_type": "execute_result"
    }
   ],
   "source": [
    "#dimensi\n",
    "data.target.shape"
   ]
  },
  {
   "cell_type": "code",
   "execution_count": 12,
   "id": "ef9ac2dd",
   "metadata": {},
   "outputs": [
    {
     "data": {
      "text/plain": [
       "array(['mean radius', 'mean texture', 'mean perimeter', 'mean area',\n",
       "       'mean smoothness', 'mean compactness', 'mean concavity',\n",
       "       'mean concave points', 'mean symmetry', 'mean fractal dimension',\n",
       "       'radius error', 'texture error', 'perimeter error', 'area error',\n",
       "       'smoothness error', 'compactness error', 'concavity error',\n",
       "       'concave points error', 'symmetry error',\n",
       "       'fractal dimension error', 'worst radius', 'worst texture',\n",
       "       'worst perimeter', 'worst area', 'worst smoothness',\n",
       "       'worst compactness', 'worst concavity', 'worst concave points',\n",
       "       'worst symmetry', 'worst fractal dimension'], dtype='<U23')"
      ]
     },
     "execution_count": 12,
     "metadata": {},
     "output_type": "execute_result"
    }
   ],
   "source": [
    "data.feature_names"
   ]
  },
  {
   "cell_type": "code",
   "execution_count": 13,
   "id": "6eaf2430",
   "metadata": {},
   "outputs": [],
   "source": [
    "#library memabntu dalam membagi data\n",
    "from sklearn.model_selection import train_test_split"
   ]
  },
  {
   "cell_type": "code",
   "execution_count": 26,
   "id": "c6ffc552",
   "metadata": {},
   "outputs": [],
   "source": [
    "X_train, X_test, y_train, y_test = train_test_split(data.data, data.target, test_size=0.33)\n",
    "N, D = X_train.shape"
   ]
  },
  {
   "cell_type": "code",
   "execution_count": 27,
   "id": "996aebf1",
   "metadata": {},
   "outputs": [],
   "source": [
    "#Standarisasi Data\n",
    "from sklearn.preprocessing import StandardScaler\n",
    "\n",
    "scaler = StandardScaler()\n",
    "\n",
    "X_train = scaler.fit_transform(X_train)\n",
    "X_test = scaler.transform(X_test)"
   ]
  },
  {
   "cell_type": "code",
   "execution_count": 32,
   "id": "d08e9b34",
   "metadata": {},
   "outputs": [
    {
     "name": "stdout",
     "output_type": "stream",
     "text": [
      "WARNING:tensorflow:Please add `keras.layers.InputLayer` instead of `keras.Input` to Sequential model. `keras.Input` is intended to be used by Functional model.\n",
      "Epoch 1/100\n",
      "12/12 [==============================] - 3s 40ms/step - loss: 0.4576 - accuracy: 0.8110 - val_loss: 0.4367 - val_accuracy: 0.8404\n",
      "Epoch 2/100\n",
      "12/12 [==============================] - 0s 19ms/step - loss: 0.4227 - accuracy: 0.8425 - val_loss: 0.4078 - val_accuracy: 0.8670\n",
      "Epoch 3/100\n",
      "12/12 [==============================] - 0s 21ms/step - loss: 0.3931 - accuracy: 0.8583 - val_loss: 0.3818 - val_accuracy: 0.8777\n",
      "Epoch 4/100\n",
      "12/12 [==============================] - 0s 19ms/step - loss: 0.3675 - accuracy: 0.8740 - val_loss: 0.3593 - val_accuracy: 0.8883\n",
      "Epoch 5/100\n",
      "12/12 [==============================] - 0s 20ms/step - loss: 0.3451 - accuracy: 0.8819 - val_loss: 0.3401 - val_accuracy: 0.8936\n",
      "Epoch 6/100\n",
      "12/12 [==============================] - 0s 19ms/step - loss: 0.3259 - accuracy: 0.8950 - val_loss: 0.3230 - val_accuracy: 0.8989\n",
      "Epoch 7/100\n",
      "12/12 [==============================] - 0s 20ms/step - loss: 0.3091 - accuracy: 0.8976 - val_loss: 0.3077 - val_accuracy: 0.8989\n",
      "Epoch 8/100\n",
      "12/12 [==============================] - 0s 21ms/step - loss: 0.2947 - accuracy: 0.9029 - val_loss: 0.2938 - val_accuracy: 0.9043\n",
      "Epoch 9/100\n",
      "12/12 [==============================] - 0s 19ms/step - loss: 0.2816 - accuracy: 0.9055 - val_loss: 0.2814 - val_accuracy: 0.9096\n",
      "Epoch 10/100\n",
      "12/12 [==============================] - 0s 20ms/step - loss: 0.2699 - accuracy: 0.9055 - val_loss: 0.2698 - val_accuracy: 0.9096\n",
      "Epoch 11/100\n",
      "12/12 [==============================] - 0s 22ms/step - loss: 0.2592 - accuracy: 0.9055 - val_loss: 0.2593 - val_accuracy: 0.9096\n",
      "Epoch 12/100\n",
      "12/12 [==============================] - 0s 22ms/step - loss: 0.2498 - accuracy: 0.9108 - val_loss: 0.2493 - val_accuracy: 0.9096\n",
      "Epoch 13/100\n",
      "12/12 [==============================] - 0s 20ms/step - loss: 0.2410 - accuracy: 0.9134 - val_loss: 0.2404 - val_accuracy: 0.9096\n",
      "Epoch 14/100\n",
      "12/12 [==============================] - 0s 23ms/step - loss: 0.2329 - accuracy: 0.9160 - val_loss: 0.2324 - val_accuracy: 0.9096\n",
      "Epoch 15/100\n",
      "12/12 [==============================] - 0s 22ms/step - loss: 0.2255 - accuracy: 0.9160 - val_loss: 0.2247 - val_accuracy: 0.9096\n",
      "Epoch 16/100\n",
      "12/12 [==============================] - 0s 21ms/step - loss: 0.2189 - accuracy: 0.9213 - val_loss: 0.2175 - val_accuracy: 0.9096\n",
      "Epoch 17/100\n",
      "12/12 [==============================] - 0s 20ms/step - loss: 0.2124 - accuracy: 0.9213 - val_loss: 0.2108 - val_accuracy: 0.9096\n",
      "Epoch 18/100\n",
      "12/12 [==============================] - 0s 20ms/step - loss: 0.2064 - accuracy: 0.9265 - val_loss: 0.2050 - val_accuracy: 0.9202\n",
      "Epoch 19/100\n",
      "12/12 [==============================] - 0s 22ms/step - loss: 0.2010 - accuracy: 0.9265 - val_loss: 0.1993 - val_accuracy: 0.9255\n",
      "Epoch 20/100\n",
      "12/12 [==============================] - 0s 22ms/step - loss: 0.1958 - accuracy: 0.9291 - val_loss: 0.1941 - val_accuracy: 0.9309\n",
      "Epoch 21/100\n",
      "12/12 [==============================] - 0s 19ms/step - loss: 0.1911 - accuracy: 0.9344 - val_loss: 0.1890 - val_accuracy: 0.9309\n",
      "Epoch 22/100\n",
      "12/12 [==============================] - 0s 21ms/step - loss: 0.1864 - accuracy: 0.9396 - val_loss: 0.1845 - val_accuracy: 0.9362\n",
      "Epoch 23/100\n",
      "12/12 [==============================] - 0s 21ms/step - loss: 0.1825 - accuracy: 0.9501 - val_loss: 0.1797 - val_accuracy: 0.9362\n",
      "Epoch 24/100\n",
      "12/12 [==============================] - 0s 23ms/step - loss: 0.1782 - accuracy: 0.9501 - val_loss: 0.1758 - val_accuracy: 0.9415\n",
      "Epoch 25/100\n",
      "12/12 [==============================] - 0s 21ms/step - loss: 0.1745 - accuracy: 0.9501 - val_loss: 0.1719 - val_accuracy: 0.9415\n",
      "Epoch 26/100\n",
      "12/12 [==============================] - 0s 19ms/step - loss: 0.1710 - accuracy: 0.9528 - val_loss: 0.1683 - val_accuracy: 0.9415\n",
      "Epoch 27/100\n",
      "12/12 [==============================] - 0s 23ms/step - loss: 0.1676 - accuracy: 0.9528 - val_loss: 0.1648 - val_accuracy: 0.9415\n",
      "Epoch 28/100\n",
      "12/12 [==============================] - 0s 18ms/step - loss: 0.1644 - accuracy: 0.9554 - val_loss: 0.1614 - val_accuracy: 0.9415\n",
      "Epoch 29/100\n",
      "12/12 [==============================] - 0s 18ms/step - loss: 0.1614 - accuracy: 0.9580 - val_loss: 0.1584 - val_accuracy: 0.9415\n",
      "Epoch 30/100\n",
      "12/12 [==============================] - 0s 19ms/step - loss: 0.1586 - accuracy: 0.9580 - val_loss: 0.1554 - val_accuracy: 0.9415\n",
      "Epoch 31/100\n",
      "12/12 [==============================] - 0s 20ms/step - loss: 0.1558 - accuracy: 0.9606 - val_loss: 0.1527 - val_accuracy: 0.9415\n",
      "Epoch 32/100\n",
      "12/12 [==============================] - 0s 17ms/step - loss: 0.1533 - accuracy: 0.9606 - val_loss: 0.1499 - val_accuracy: 0.9468\n",
      "Epoch 33/100\n",
      "12/12 [==============================] - 0s 24ms/step - loss: 0.1508 - accuracy: 0.9606 - val_loss: 0.1473 - val_accuracy: 0.9468\n",
      "Epoch 34/100\n",
      "12/12 [==============================] - 0s 21ms/step - loss: 0.1484 - accuracy: 0.9606 - val_loss: 0.1449 - val_accuracy: 0.9468\n",
      "Epoch 35/100\n",
      "12/12 [==============================] - 0s 17ms/step - loss: 0.1462 - accuracy: 0.9606 - val_loss: 0.1427 - val_accuracy: 0.9468\n",
      "Epoch 36/100\n",
      "12/12 [==============================] - 0s 17ms/step - loss: 0.1442 - accuracy: 0.9606 - val_loss: 0.1404 - val_accuracy: 0.9521\n",
      "Epoch 37/100\n",
      "12/12 [==============================] - 0s 20ms/step - loss: 0.1421 - accuracy: 0.9606 - val_loss: 0.1383 - val_accuracy: 0.9521\n",
      "Epoch 38/100\n",
      "12/12 [==============================] - 0s 16ms/step - loss: 0.1401 - accuracy: 0.9606 - val_loss: 0.1362 - val_accuracy: 0.9521\n",
      "Epoch 39/100\n",
      "12/12 [==============================] - 0s 22ms/step - loss: 0.1383 - accuracy: 0.9633 - val_loss: 0.1343 - val_accuracy: 0.9521\n",
      "Epoch 40/100\n",
      "12/12 [==============================] - 0s 19ms/step - loss: 0.1365 - accuracy: 0.9633 - val_loss: 0.1323 - val_accuracy: 0.9574\n",
      "Epoch 41/100\n",
      "12/12 [==============================] - 0s 20ms/step - loss: 0.1348 - accuracy: 0.9633 - val_loss: 0.1306 - val_accuracy: 0.9574\n",
      "Epoch 42/100\n",
      "12/12 [==============================] - 0s 23ms/step - loss: 0.1331 - accuracy: 0.9659 - val_loss: 0.1288 - val_accuracy: 0.9574\n",
      "Epoch 43/100\n",
      "12/12 [==============================] - 0s 17ms/step - loss: 0.1315 - accuracy: 0.9659 - val_loss: 0.1273 - val_accuracy: 0.9521\n",
      "Epoch 44/100\n",
      "12/12 [==============================] - 0s 17ms/step - loss: 0.1301 - accuracy: 0.9659 - val_loss: 0.1255 - val_accuracy: 0.9521\n",
      "Epoch 45/100\n",
      "12/12 [==============================] - 0s 19ms/step - loss: 0.1285 - accuracy: 0.9659 - val_loss: 0.1240 - val_accuracy: 0.9521\n",
      "Epoch 46/100\n",
      "12/12 [==============================] - 0s 19ms/step - loss: 0.1272 - accuracy: 0.9659 - val_loss: 0.1225 - val_accuracy: 0.9521\n",
      "Epoch 47/100\n",
      "12/12 [==============================] - 0s 20ms/step - loss: 0.1258 - accuracy: 0.9659 - val_loss: 0.1211 - val_accuracy: 0.9574\n",
      "Epoch 48/100\n",
      "12/12 [==============================] - 0s 18ms/step - loss: 0.1245 - accuracy: 0.9659 - val_loss: 0.1197 - val_accuracy: 0.9681\n",
      "Epoch 49/100\n",
      "12/12 [==============================] - 0s 18ms/step - loss: 0.1232 - accuracy: 0.9711 - val_loss: 0.1183 - val_accuracy: 0.9734\n",
      "Epoch 50/100\n",
      "12/12 [==============================] - 0s 22ms/step - loss: 0.1220 - accuracy: 0.9711 - val_loss: 0.1171 - val_accuracy: 0.9734\n",
      "Epoch 51/100\n",
      "12/12 [==============================] - 0s 17ms/step - loss: 0.1208 - accuracy: 0.9711 - val_loss: 0.1160 - val_accuracy: 0.9734\n",
      "Epoch 52/100\n",
      "12/12 [==============================] - 0s 22ms/step - loss: 0.1197 - accuracy: 0.9738 - val_loss: 0.1148 - val_accuracy: 0.9734\n",
      "Epoch 53/100\n",
      "12/12 [==============================] - 0s 17ms/step - loss: 0.1186 - accuracy: 0.9738 - val_loss: 0.1135 - val_accuracy: 0.9734\n",
      "Epoch 54/100\n",
      "12/12 [==============================] - 0s 18ms/step - loss: 0.1175 - accuracy: 0.9738 - val_loss: 0.1124 - val_accuracy: 0.9734\n",
      "Epoch 55/100\n",
      "12/12 [==============================] - 0s 21ms/step - loss: 0.1165 - accuracy: 0.9738 - val_loss: 0.1113 - val_accuracy: 0.9734\n",
      "Epoch 56/100\n",
      "12/12 [==============================] - 0s 19ms/step - loss: 0.1155 - accuracy: 0.9738 - val_loss: 0.1102 - val_accuracy: 0.9840\n",
      "Epoch 57/100\n"
     ]
    },
    {
     "name": "stdout",
     "output_type": "stream",
     "text": [
      "12/12 [==============================] - 0s 19ms/step - loss: 0.1145 - accuracy: 0.9738 - val_loss: 0.1091 - val_accuracy: 0.9840\n",
      "Epoch 58/100\n",
      "12/12 [==============================] - 0s 22ms/step - loss: 0.1136 - accuracy: 0.9738 - val_loss: 0.1081 - val_accuracy: 0.9840\n",
      "Epoch 59/100\n",
      "12/12 [==============================] - 0s 19ms/step - loss: 0.1127 - accuracy: 0.9738 - val_loss: 0.1073 - val_accuracy: 0.9840\n",
      "Epoch 60/100\n",
      "12/12 [==============================] - 0s 23ms/step - loss: 0.1118 - accuracy: 0.9738 - val_loss: 0.1063 - val_accuracy: 0.9840\n",
      "Epoch 61/100\n",
      "12/12 [==============================] - 0s 18ms/step - loss: 0.1110 - accuracy: 0.9738 - val_loss: 0.1054 - val_accuracy: 0.9840\n",
      "Epoch 62/100\n",
      "12/12 [==============================] - 0s 19ms/step - loss: 0.1101 - accuracy: 0.9738 - val_loss: 0.1045 - val_accuracy: 0.9840\n",
      "Epoch 63/100\n",
      "12/12 [==============================] - 0s 17ms/step - loss: 0.1093 - accuracy: 0.9738 - val_loss: 0.1037 - val_accuracy: 0.9840\n",
      "Epoch 64/100\n",
      "12/12 [==============================] - 0s 23ms/step - loss: 0.1085 - accuracy: 0.9738 - val_loss: 0.1029 - val_accuracy: 0.9840\n",
      "Epoch 65/100\n",
      "12/12 [==============================] - 0s 22ms/step - loss: 0.1078 - accuracy: 0.9738 - val_loss: 0.1020 - val_accuracy: 0.9840\n",
      "Epoch 66/100\n",
      "12/12 [==============================] - 0s 19ms/step - loss: 0.1070 - accuracy: 0.9738 - val_loss: 0.1013 - val_accuracy: 0.9840\n",
      "Epoch 67/100\n",
      "12/12 [==============================] - 0s 19ms/step - loss: 0.1063 - accuracy: 0.9738 - val_loss: 0.1006 - val_accuracy: 0.9840\n",
      "Epoch 68/100\n",
      "12/12 [==============================] - 0s 19ms/step - loss: 0.1056 - accuracy: 0.9738 - val_loss: 0.0998 - val_accuracy: 0.9840\n",
      "Epoch 69/100\n",
      "12/12 [==============================] - 0s 17ms/step - loss: 0.1048 - accuracy: 0.9738 - val_loss: 0.0991 - val_accuracy: 0.9840\n",
      "Epoch 70/100\n",
      "12/12 [==============================] - 0s 23ms/step - loss: 0.1042 - accuracy: 0.9738 - val_loss: 0.0984 - val_accuracy: 0.9840\n",
      "Epoch 71/100\n",
      "12/12 [==============================] - 0s 18ms/step - loss: 0.1036 - accuracy: 0.9738 - val_loss: 0.0977 - val_accuracy: 0.9840\n",
      "Epoch 72/100\n",
      "12/12 [==============================] - 0s 22ms/step - loss: 0.1029 - accuracy: 0.9738 - val_loss: 0.0971 - val_accuracy: 0.9840\n",
      "Epoch 73/100\n",
      "12/12 [==============================] - 0s 21ms/step - loss: 0.1023 - accuracy: 0.9738 - val_loss: 0.0964 - val_accuracy: 0.9840\n",
      "Epoch 74/100\n",
      "12/12 [==============================] - 0s 20ms/step - loss: 0.1017 - accuracy: 0.9738 - val_loss: 0.0958 - val_accuracy: 0.9840\n",
      "Epoch 75/100\n",
      "12/12 [==============================] - 0s 17ms/step - loss: 0.1010 - accuracy: 0.9738 - val_loss: 0.0952 - val_accuracy: 0.9840\n",
      "Epoch 76/100\n",
      "12/12 [==============================] - 0s 20ms/step - loss: 0.1005 - accuracy: 0.9738 - val_loss: 0.0946 - val_accuracy: 0.9840\n",
      "Epoch 77/100\n",
      "12/12 [==============================] - 0s 18ms/step - loss: 0.0999 - accuracy: 0.9738 - val_loss: 0.0941 - val_accuracy: 0.9840\n",
      "Epoch 78/100\n",
      "12/12 [==============================] - 0s 20ms/step - loss: 0.0994 - accuracy: 0.9738 - val_loss: 0.0937 - val_accuracy: 0.9840\n",
      "Epoch 79/100\n",
      "12/12 [==============================] - 0s 20ms/step - loss: 0.0988 - accuracy: 0.9738 - val_loss: 0.0931 - val_accuracy: 0.9840\n",
      "Epoch 80/100\n",
      "12/12 [==============================] - 0s 19ms/step - loss: 0.0983 - accuracy: 0.9738 - val_loss: 0.0926 - val_accuracy: 0.9840\n",
      "Epoch 81/100\n",
      "12/12 [==============================] - 0s 20ms/step - loss: 0.0977 - accuracy: 0.9738 - val_loss: 0.0921 - val_accuracy: 0.9840\n",
      "Epoch 82/100\n",
      "12/12 [==============================] - 0s 21ms/step - loss: 0.0972 - accuracy: 0.9738 - val_loss: 0.0915 - val_accuracy: 0.9840\n",
      "Epoch 83/100\n",
      "12/12 [==============================] - 0s 22ms/step - loss: 0.0967 - accuracy: 0.9738 - val_loss: 0.0910 - val_accuracy: 0.9840\n",
      "Epoch 84/100\n",
      "12/12 [==============================] - 0s 21ms/step - loss: 0.0963 - accuracy: 0.9738 - val_loss: 0.0906 - val_accuracy: 0.9840\n",
      "Epoch 85/100\n",
      "12/12 [==============================] - 0s 18ms/step - loss: 0.0958 - accuracy: 0.9738 - val_loss: 0.0902 - val_accuracy: 0.9840\n",
      "Epoch 86/100\n",
      "12/12 [==============================] - 0s 20ms/step - loss: 0.0953 - accuracy: 0.9738 - val_loss: 0.0897 - val_accuracy: 0.9840\n",
      "Epoch 87/100\n",
      "12/12 [==============================] - 0s 20ms/step - loss: 0.0948 - accuracy: 0.9738 - val_loss: 0.0893 - val_accuracy: 0.9840\n",
      "Epoch 88/100\n",
      "12/12 [==============================] - 0s 20ms/step - loss: 0.0944 - accuracy: 0.9738 - val_loss: 0.0889 - val_accuracy: 0.9840\n",
      "Epoch 89/100\n",
      "12/12 [==============================] - 0s 22ms/step - loss: 0.0940 - accuracy: 0.9738 - val_loss: 0.0884 - val_accuracy: 0.9840\n",
      "Epoch 90/100\n",
      "12/12 [==============================] - 0s 19ms/step - loss: 0.0935 - accuracy: 0.9738 - val_loss: 0.0880 - val_accuracy: 0.9840\n",
      "Epoch 91/100\n",
      "12/12 [==============================] - 0s 19ms/step - loss: 0.0931 - accuracy: 0.9738 - val_loss: 0.0877 - val_accuracy: 0.9840\n",
      "Epoch 92/100\n",
      "12/12 [==============================] - 0s 20ms/step - loss: 0.0927 - accuracy: 0.9738 - val_loss: 0.0873 - val_accuracy: 0.9840\n",
      "Epoch 93/100\n",
      "12/12 [==============================] - 0s 18ms/step - loss: 0.0923 - accuracy: 0.9738 - val_loss: 0.0869 - val_accuracy: 0.9840\n",
      "Epoch 94/100\n",
      "12/12 [==============================] - 0s 17ms/step - loss: 0.0919 - accuracy: 0.9738 - val_loss: 0.0865 - val_accuracy: 0.9840\n",
      "Epoch 95/100\n",
      "12/12 [==============================] - 0s 23ms/step - loss: 0.0915 - accuracy: 0.9738 - val_loss: 0.0863 - val_accuracy: 0.9840\n",
      "Epoch 96/100\n",
      "12/12 [==============================] - 0s 17ms/step - loss: 0.0911 - accuracy: 0.9738 - val_loss: 0.0859 - val_accuracy: 0.9840\n",
      "Epoch 97/100\n",
      "12/12 [==============================] - 0s 19ms/step - loss: 0.0907 - accuracy: 0.9738 - val_loss: 0.0856 - val_accuracy: 0.9840\n",
      "Epoch 98/100\n",
      "12/12 [==============================] - 0s 21ms/step - loss: 0.0904 - accuracy: 0.9738 - val_loss: 0.0854 - val_accuracy: 0.9840\n",
      "Epoch 99/100\n",
      "12/12 [==============================] - 0s 21ms/step - loss: 0.0900 - accuracy: 0.9738 - val_loss: 0.0850 - val_accuracy: 0.9840\n",
      "Epoch 100/100\n",
      "12/12 [==============================] - 0s 20ms/step - loss: 0.0896 - accuracy: 0.9738 - val_loss: 0.0847 - val_accuracy: 0.9840\n",
      "12/12 [==============================] - 0s 8ms/step - loss: 0.0894 - accuracy: 0.9738\n",
      "Train score: [0.08941100537776947, 0.9737532734870911]\n",
      "6/6 [==============================] - 0s 7ms/step - loss: 0.0847 - accuracy: 0.9840\n",
      "Test score: [0.08467172086238861, 0.9840425252914429]\n"
     ]
    }
   ],
   "source": [
    "#Membangun model\n",
    "model = tf.keras.models.Sequential([\n",
    "    tf.keras.layers.Input(shape=(D,)),\n",
    "    tf.keras.layers.Dense(1, activation='sigmoid')\n",
    "])\n",
    "\n",
    "model.compile(optimizer='adam',\n",
    "             loss='binary_crossentropy',\n",
    "             metrics=['accuracy'])\n",
    "\n",
    "# Training data\n",
    "r = model.fit(X_train, y_train, validation_data=(X_test, y_test), epochs=100)\n",
    "\n",
    "# Evaluasi model dengan loss dan akurasi\n",
    "print(\"Train score:\", model.evaluate(X_train, y_train))\n",
    "print(\"Test score:\", model.evaluate(X_test, y_test))"
   ]
  },
  {
   "cell_type": "code",
   "execution_count": 33,
   "id": "46b180e4",
   "metadata": {},
   "outputs": [
    {
     "data": {
      "text/plain": [
       "<matplotlib.legend.Legend at 0x2813dc777f0>"
      ]
     },
     "execution_count": 33,
     "metadata": {},
     "output_type": "execute_result"
    },
    {
     "data": {
      "image/png": "[encoded data removed]",
      "text/plain": [
       "<Figure size 432x288 with 1 Axes>"
      ]
     },
     "metadata": {
      "needs_background": "light"
     },
     "output_type": "display_data"
    }
   ],
   "source": [
    "# plot hasil model.fit() grafik loss\n",
    "import matplotlib.pyplot as plt\n",
    "plt.plot(r.history['loss'], label='loss')\n",
    "plt.plot(r.history['val_loss'], label='val loss')\n",
    "plt.legend()"
   ]
  },
  {
   "cell_type": "code",
   "execution_count": 36,
   "id": "eaeca701",
   "metadata": {},
   "outputs": [
    {
     "data": {
      "text/plain": [
       "<matplotlib.legend.Legend at 0x2813de885b0>"
      ]
     },
     "execution_count": 36,
     "metadata": {},
     "output_type": "execute_result"
    },
    {
     "data": {
      "image/png": "[encoded data removed]",
      "text/plain": [
       "<Figure size 432x288 with 1 Axes>"
      ]
     },
     "metadata": {
      "needs_background": "light"
     },
     "output_type": "display_data"
    }
   ],
   "source": [
    "#grafik plot akurasi\n",
    "plt.plot(r.history['accuracy'], label='akurasi')\n",
    "plt.plot(r.history['val_accuracy'], label='val_akurasi')\n",
    "plt.legend()"
   ]
  },
  {
   "cell_type": "code",
   "execution_count": null,
   "id": "f5658955",
   "metadata": {},
   "outputs": [],
   "source": []
  }
 ],
 "metadata": {
  "kernelspec": {
   "display_name": "Python 3 (ipykernel)",
   "language": "python",
   "name": "python3"
  },
  "language_info": {
   "codemirror_mode": {
    "name": "ipython",
    "version": 3
   },
   "file_extension": ".py",
   "mimetype": "text/x-python",
   "name": "python",
   "nbconvert_exporter": "python",
   "pygments_lexer": "ipython3",
   "version": "3.9.7"
  }
 },
 "nbformat": 4,
 "nbformat_minor": 5
}
